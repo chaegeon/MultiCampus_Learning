{
  "nbformat": 4,
  "nbformat_minor": 0,
  "metadata": {
    "colab": {
      "name": "기초통계.ipynb",
      "provenance": [],
      "collapsed_sections": [],
      "mount_file_id": "1mU5QQS-usLgisbEqfRerFKP1SXVZoWPS",
      "authorship_tag": "ABX9TyPSRkmGIAEQ9h6B3xSy/k0J",
      "include_colab_link": true
    },
    "kernelspec": {
      "name": "python3",
      "display_name": "Python 3"
    },
    "language_info": {
      "name": "python"
    }
  },
  "cells": [
    {
      "cell_type": "markdown",
      "metadata": {
        "id": "view-in-github",
        "colab_type": "text"
      },
      "source": [
        "<a href=\"https://colab.research.google.com/github/chaegeon/TIL/blob/master/%EA%B8%B0%EC%B4%88%ED%86%B5%EA%B3%84.ipynb\" target=\"_parent\"><img src=\"https://colab.research.google.com/assets/colab-badge.svg\" alt=\"Open In Colab\"/></a>"
      ]
    },
    {
      "cell_type": "code",
      "execution_count": null,
      "metadata": {
        "id": "GeEeGTJwUedJ"
      },
      "outputs": [],
      "source": [
        "import warnings\n",
        "warnings.filterwarnings('always')\n",
        "warnings.filterwarnings('ignore')\n",
        "\n",
        "import numpy as np\n",
        "import pandas as pd\n",
        "\n",
        "import matplotlib.pyplot as plt\n",
        "import seaborn as sns"
      ]
    },
    {
      "cell_type": "markdown",
      "source": [
        "# 통계\n",
        "- 교재로는 챕터2 부터\n",
        "- 예제는 교재 맽 앞 책표지뒤의 아래쪽 소스코드\n",
        "  - 예제는 직접 다운로드\n",
        "- 기본적으로는 교재를 바탕으로 수업할 건데, 확률분포를 직접하더라고. 수업에서 그건 라이브러리를 사용해서 할 것\n",
        "\n",
        "- 통계란?\n",
        "  - 관찰(수집)된 잘(현상/상태)에 대해서 통계적(수치적)으로 처리하고 연구\n",
        "  - 기술통계와 추론통계"
      ],
      "metadata": {
        "id": "OhM9R7KjW_Ib"
      }
    },
    {
      "cell_type": "markdown",
      "source": [
        "## 기술통계\n",
        "- 기초통계를 이용해서 자료의 성질(특성)을 확인(설명)하는 것\n",
        "- 자료의 요약된 정보\n",
        "  - 자료의 자세한 정보까지는 확인할 수 없습니다.\n",
        "    - 자료의 세세한 정봏까지 확인이 가능하면, 통계없이 확인가능한 정도로 아주 자근 파일\n",
        "    - 즉, 빅데이터에서 아주아주 큰 파일에 대해서 확인할 수 있는 방법은 통계외에는 접근하는 방법조차 없다.\n",
        "    - 자료의 아주 세세한 정보는 통곙에 있어서는 큰 관심사가 되지 않는다\n",
        "  - 자료의 커다란 특성을 확인할 수 있다.\n",
        "  - 통계가 아니고서는 대용량의 자료를 설명할 방법이 없다.\n",
        "\n",
        "\n",
        "- 분석에 사용하는 기술적인 통계적 수치(통계량)\n",
        "  - 중심에 대한 통계 ( 교재 2.1)\n",
        "  - 산포에 대한 통계 ( 교재 2.2)\n",
        "  - 관계에 대한 통계 ( 교재 3.1)\n",
        "  - 형태에 대한 통계\n"
      ],
      "metadata": {
        "id": "EA1a0GZuaATJ"
      }
    },
    {
      "cell_type": "markdown",
      "source": [
        " 자료에 대한 평균"
      ],
      "metadata": {
        "id": "329CJVp-bsjb"
      }
    },
    {
      "cell_type": "markdown",
      "source": [
        ""
      ],
      "metadata": {
        "id": "E6T59cIZbpaa"
      }
    },
    {
      "cell_type": "markdown",
      "source": [
        "### 중심에 대한 통계\n",
        "- 자료의 중심에 대한 경향을 나타내는 수치\n",
        "- 중심성에 관한\n",
        "- 평균 : 자료에 대한 평균(모평균/표본평균/샘플평균)\n",
        "- 중앙값 : 자료의 50%에 해당하는 값\n",
        "  - 자료를 정렬 했을 때, 가운데 오는 값\n",
        "- 최빈값 : 가장 많이 등장하는 값\n"
      ],
      "metadata": {
        "id": "osJDupmGblE5"
      }
    },
    {
      "cell_type": "code",
      "source": [
        "df = pd.read_csv('/content/drive/MyDrive/멀티캠퍼스/기초통계/ch2_scores_em.csv')\n",
        "df.head(2)"
      ],
      "metadata": {
        "colab": {
          "base_uri": "https://localhost:8080/",
          "height": 112
        },
        "id": "LFbGKfsIbgzn",
        "outputId": "ae0c4053-e19f-43f7-aa5d-fba5c09d48fb"
      },
      "execution_count": null,
      "outputs": [
        {
          "output_type": "execute_result",
          "data": {
            "text/html": [
              "<div>\n",
              "<style scoped>\n",
              "    .dataframe tbody tr th:only-of-type {\n",
              "        vertical-align: middle;\n",
              "    }\n",
              "\n",
              "    .dataframe tbody tr th {\n",
              "        vertical-align: top;\n",
              "    }\n",
              "\n",
              "    .dataframe thead th {\n",
              "        text-align: right;\n",
              "    }\n",
              "</style>\n",
              "<table border=\"1\" class=\"dataframe\">\n",
              "  <thead>\n",
              "    <tr style=\"text-align: right;\">\n",
              "      <th></th>\n",
              "      <th>student number</th>\n",
              "      <th>english</th>\n",
              "      <th>mathematics</th>\n",
              "    </tr>\n",
              "  </thead>\n",
              "  <tbody>\n",
              "    <tr>\n",
              "      <th>0</th>\n",
              "      <td>1</td>\n",
              "      <td>42</td>\n",
              "      <td>65</td>\n",
              "    </tr>\n",
              "    <tr>\n",
              "      <th>1</th>\n",
              "      <td>2</td>\n",
              "      <td>69</td>\n",
              "      <td>80</td>\n",
              "    </tr>\n",
              "  </tbody>\n",
              "</table>\n",
              "</div>"
            ],
            "text/plain": [
              "   student number  english  mathematics\n",
              "0               1       42           65\n",
              "1               2       69           80"
            ]
          },
          "metadata": {},
          "execution_count": 4
        }
      ]
    },
    {
      "cell_type": "code",
      "source": [
        "# 학생 10명의 영어점수\n",
        "# 를 넘파이로 바꿔서 배열로 보\n",
        "scores = np.array( df['english'][:10] )\n",
        "scores"
      ],
      "metadata": {
        "colab": {
          "base_uri": "https://localhost:8080/"
        },
        "id": "B8MQhmoXc2V0",
        "outputId": "2a3a4bbf-123d-4d93-a639-c28ff89a3544"
      },
      "execution_count": null,
      "outputs": [
        {
          "output_type": "execute_result",
          "data": {
            "text/plain": [
              "array([42, 69, 56, 41, 57, 48, 65, 49, 65, 58])"
            ]
          },
          "metadata": {},
          "execution_count": 6
        }
      ]
    },
    {
      "cell_type": "code",
      "source": [
        "# 평균구하기\n",
        "sum(scores) / len(scores)"
      ],
      "metadata": {
        "colab": {
          "base_uri": "https://localhost:8080/"
        },
        "id": "MJLqFDxvdEjF",
        "outputId": "fe3f5709-9005-4b56-fda7-39c0f7bbb933"
      },
      "execution_count": null,
      "outputs": [
        {
          "output_type": "execute_result",
          "data": {
            "text/plain": [
              "55.0"
            ]
          },
          "metadata": {},
          "execution_count": 7
        }
      ]
    },
    {
      "cell_type": "code",
      "source": [
        "# 넘파이의 mean은 평균을 구함\n",
        "np.mean( scores )"
      ],
      "metadata": {
        "colab": {
          "base_uri": "https://localhost:8080/"
        },
        "id": "HlE1AN2xdMgY",
        "outputId": "b7659169-0e7a-4374-ee70-2a391bddfb91"
      },
      "execution_count": null,
      "outputs": [
        {
          "output_type": "execute_result",
          "data": {
            "text/plain": [
              "55.0"
            ]
          },
          "metadata": {},
          "execution_count": 8
        }
      ]
    },
    {
      "cell_type": "code",
      "source": [
        "# 판다스에서 평균\n",
        "df['english'][:10].mean()"
      ],
      "metadata": {
        "colab": {
          "base_uri": "https://localhost:8080/"
        },
        "id": "gUXwEMmGdRdJ",
        "outputId": "c375578e-c41c-4540-e7a8-0b9162737f36"
      },
      "execution_count": null,
      "outputs": [
        {
          "output_type": "execute_result",
          "data": {
            "text/plain": [
              "55.0"
            ]
          },
          "metadata": {},
          "execution_count": 9
        }
      ]
    },
    {
      "cell_type": "markdown",
      "source": [
        "### 중앙값 구하기"
      ],
      "metadata": {
        "id": "QAYSMXjSePGf"
      }
    },
    {
      "cell_type": "code",
      "source": [
        "np.sort( scores)\n",
        "# 가운데 오는 56, 57이 중앙값이 된다?"
      ],
      "metadata": {
        "colab": {
          "base_uri": "https://localhost:8080/"
        },
        "id": "hPwoep08dWQP",
        "outputId": "4353ede8-6476-4c39-9f82-beb7abc44681"
      },
      "execution_count": null,
      "outputs": [
        {
          "output_type": "execute_result",
          "data": {
            "text/plain": [
              "array([41, 42, 48, 49, 56, 57, 58, 65, 65, 69])"
            ]
          },
          "metadata": {},
          "execution_count": 10
        }
      ]
    },
    {
      "cell_type": "code",
      "source": [
        "sort_scores = np.sort(scores)\n",
        "sort_scores"
      ],
      "metadata": {
        "colab": {
          "base_uri": "https://localhost:8080/"
        },
        "id": "DwFLVGODeSNS",
        "outputId": "9851db24-4fe1-4277-c551-fc4a95c1aa7a"
      },
      "execution_count": null,
      "outputs": [
        {
          "output_type": "execute_result",
          "data": {
            "text/plain": [
              "array([41, 42, 48, 49, 56, 57, 58, 65, 65, 69])"
            ]
          },
          "metadata": {},
          "execution_count": 11
        }
      ]
    },
    {
      "cell_type": "code",
      "source": [
        "len(sort_scores) // 2"
      ],
      "metadata": {
        "colab": {
          "base_uri": "https://localhost:8080/"
        },
        "id": "xkDOnmq5eqBE",
        "outputId": "d1c0b2ce-ab0a-4f28-b283-b3c1754bd0b9"
      },
      "execution_count": null,
      "outputs": [
        {
          "output_type": "execute_result",
          "data": {
            "text/plain": [
              "5"
            ]
          },
          "metadata": {},
          "execution_count": 13
        }
      ]
    },
    {
      "cell_type": "code",
      "source": [
        "size = len(sort_scores)\n",
        "if size % 2 == 0:\n",
        "  m0 = sort_scores[size//2-1]\n",
        "  m1 = sort_scores[size//2]\n",
        "  mid = (m0 + m1) / 2\n",
        "  # 사이즈?가 짝수라면 딱 가운데 수가 없는 거잖아.\n",
        "  # 그럼 가운데 수를 두개를 m0, m1로 정해서 이 평균값을 중앙값으로 정함\n",
        "  # Ex). 1, 2, 3, 4, 5라면 중앙값이 3일텐데\n",
        "  # 1, 2, 3, 4, 5, 6 이라면 가운데의 두 수인 3, 4의 평균을 중앙값으로 삼음\n",
        "else :\n",
        "  mid = sort_scores[ (size+1) // 2-1 ]\n"
      ],
      "metadata": {
        "id": "uVYiK911ecxk"
      },
      "execution_count": null,
      "outputs": []
    },
    {
      "cell_type": "code",
      "source": [
        "mid\n",
        "# 56 과 57의 평균으로 56.5를 나온 듯"
      ],
      "metadata": {
        "colab": {
          "base_uri": "https://localhost:8080/"
        },
        "id": "NNkojI6QepVX",
        "outputId": "2a170632-5491-484e-8c0b-119679a185ad"
      },
      "execution_count": null,
      "outputs": [
        {
          "output_type": "execute_result",
          "data": {
            "text/plain": [
              "56.5"
            ]
          },
          "metadata": {},
          "execution_count": 25
        }
      ]
    },
    {
      "cell_type": "code",
      "source": [
        "np.median(scores)"
      ],
      "metadata": {
        "colab": {
          "base_uri": "https://localhost:8080/"
        },
        "id": "jJLcnHrLfDGT",
        "outputId": "11a16fb0-fc07-4e1d-8a35-c7648882c421"
      },
      "execution_count": null,
      "outputs": [
        {
          "output_type": "execute_result",
          "data": {
            "text/plain": [
              "56.5"
            ]
          },
          "metadata": {},
          "execution_count": 26
        }
      ]
    },
    {
      "cell_type": "code",
      "source": [
        "df['english'][:10].median()"
      ],
      "metadata": {
        "colab": {
          "base_uri": "https://localhost:8080/"
        },
        "id": "_h9h5NvSftaq",
        "outputId": "b932a8dc-caa9-4e0a-8df7-c32f80c7b850"
      },
      "execution_count": null,
      "outputs": [
        {
          "output_type": "execute_result",
          "data": {
            "text/plain": [
              "56.5"
            ]
          },
          "metadata": {},
          "execution_count": 27
        }
      ]
    },
    {
      "cell_type": "markdown",
      "source": [
        "### 최빈값 구하기\n",
        "- 넘파이에서는 최빈값을 구하는 함수가 없다.\n",
        "- 시리즈는 있음\n",
        "\n",
        "\n"
      ],
      "metadata": {
        "id": "oYN9ds7og-cu"
      }
    },
    {
      "cell_type": "code",
      "source": [
        "# 시리즈 형태로 바꾸고 mode 로 값을 구하는 방법\n",
        "pd.Series(scores). mode()\n"
      ],
      "metadata": {
        "colab": {
          "base_uri": "https://localhost:8080/"
        },
        "id": "Fcn6dXzIfxQv",
        "outputId": "beb25a8b-12e3-4ee3-9cdc-d2f5f00df217"
      },
      "execution_count": null,
      "outputs": [
        {
          "output_type": "execute_result",
          "data": {
            "text/plain": [
              "0    65\n",
              "dtype: int64"
            ]
          },
          "metadata": {},
          "execution_count": 29
        }
      ]
    },
    {
      "cell_type": "code",
      "source": [
        "df['english'][:10].mode()"
      ],
      "metadata": {
        "colab": {
          "base_uri": "https://localhost:8080/"
        },
        "id": "-nGWEdP-hKV7",
        "outputId": "b2e180f9-9d10-40b5-cc5a-7dba59dd77f3"
      },
      "execution_count": null,
      "outputs": [
        {
          "output_type": "execute_result",
          "data": {
            "text/plain": [
              "0    65\n",
              "dtype: int64"
            ]
          },
          "metadata": {},
          "execution_count": 28
        }
      ]
    },
    {
      "cell_type": "markdown",
      "source": [
        "### 산포에 대한 통계\n",
        "- 자료의 변동성을 나타해는 수치\n",
        "  - 자료들이 중심으로부터 얼마나 멀리 떨어져 있는가의 정도를 나타내는 수치\n",
        "- 편차 : 관측(수집)된 값과 평균의 차이\n",
        "  - 평균(중심)으로부터 얼마나 멀리 떨어져 있는가\n",
        "- 변동 : 편차의 제곱합 (제곱해서 다 합친 값)\n",
        "- 분산 : 변동을 데이터의 수로 나눈 값\n",
        "- 표준편차 : 분산의 제곱근\n"
      ],
      "metadata": {
        "id": "ikVIL8JzhrWF"
      }
    },
    {
      "cell_type": "markdown",
      "source": [
        "### 편차구하기"
      ],
      "metadata": {
        "id": "hYirnLmiiTFj"
      }
    },
    {
      "cell_type": "code",
      "source": [
        "mean = np. mean(scores) # 평균 \n",
        "diviation = mean - scores  # 디비에이션은 ( 평균 - 값 )\n",
        "diviation"
      ],
      "metadata": {
        "colab": {
          "base_uri": "https://localhost:8080/"
        },
        "id": "0wRWa7QshNWU",
        "outputId": "1da99b37-858f-4b1a-cd88-76f4ac78a3d1"
      },
      "execution_count": null,
      "outputs": [
        {
          "output_type": "execute_result",
          "data": {
            "text/plain": [
              "array([ 13., -14.,  -1.,  14.,  -2.,   7., -10.,   6., -10.,  -3.])"
            ]
          },
          "metadata": {},
          "execution_count": 30
        }
      ]
    },
    {
      "cell_type": "code",
      "source": [
        "# 위의 편차를 제곱해서 합친 값이 변동"
      ],
      "metadata": {
        "id": "oaBLV9p6igF2"
      },
      "execution_count": null,
      "outputs": []
    },
    {
      "cell_type": "markdown",
      "source": [
        "### 변동 구하기"
      ],
      "metadata": {
        "id": "yuBywd_CixHa"
      }
    },
    {
      "cell_type": "code",
      "source": [
        "variation = np.sum(diviation ** 2 ) # 제곱하는 경우는 부호를 없애거나\n",
        "variation      # +13 이나 -14나 멀리 떨어진 건 같은데, 0이 나오면 차이가 없다는 뜻이 나와버리니까\n",
        "              # 부호를 없애는 것"
      ],
      "metadata": {
        "colab": {
          "base_uri": "https://localhost:8080/"
        },
        "id": "N55TbYQBiwIr",
        "outputId": "317cfadb-b303-4726-8af1-113d2983a012"
      },
      "execution_count": null,
      "outputs": [
        {
          "output_type": "execute_result",
          "data": {
            "text/plain": [
              "860.0"
            ]
          },
          "metadata": {},
          "execution_count": 35
        }
      ]
    },
    {
      "cell_type": "code",
      "source": [
        "# 넘파이가 분산을 구하는 방식\n",
        "variation / len(scores)\n"
      ],
      "metadata": {
        "colab": {
          "base_uri": "https://localhost:8080/"
        },
        "id": "RzIoeNXhi4Wf",
        "outputId": "24565de9-97da-4c95-ae9f-4f0389e66408"
      },
      "execution_count": null,
      "outputs": [
        {
          "output_type": "execute_result",
          "data": {
            "text/plain": [
              "86.0"
            ]
          },
          "metadata": {},
          "execution_count": 36
        }
      ]
    },
    {
      "cell_type": "code",
      "source": [
        "# 시리즈나 프레임이 분산을 구하는 방식?\n",
        "variation / ( len(scores) - 1 ) # -1 을 자유로라고 해석하기도 하고..\n",
        "# 표본과 모집단 사이의 차이를 줄이기 위한 방편\n",
        "# 일반적으로 표본에서 말하는 분산은 -1 한 분산이라고 보면 될 듯"
      ],
      "metadata": {
        "colab": {
          "base_uri": "https://localhost:8080/"
        },
        "id": "rB3ayTWNmNtZ",
        "outputId": "54ee47fd-ad54-4009-d417-90be3b5962f6"
      },
      "execution_count": null,
      "outputs": [
        {
          "output_type": "execute_result",
          "data": {
            "text/plain": [
              "95.55555555555556"
            ]
          },
          "metadata": {},
          "execution_count": 40
        }
      ]
    },
    {
      "cell_type": "code",
      "source": [
        "np.var(scores)"
      ],
      "metadata": {
        "colab": {
          "base_uri": "https://localhost:8080/"
        },
        "id": "udEEubxNmRqq",
        "outputId": "064e5bfc-e9ae-4992-ea58-0e284be11a74"
      },
      "execution_count": null,
      "outputs": [
        {
          "output_type": "execute_result",
          "data": {
            "text/plain": [
              "86.0"
            ]
          },
          "metadata": {},
          "execution_count": 38
        }
      ]
    },
    {
      "cell_type": "code",
      "source": [
        "# 파라미터로 조절\n",
        "np.var(scores, ddof = 1)"
      ],
      "metadata": {
        "colab": {
          "base_uri": "https://localhost:8080/"
        },
        "id": "y_lNZFYYm2nB",
        "outputId": "0686eb7c-c591-4f29-da09-38dd7e09dc4e"
      },
      "execution_count": null,
      "outputs": [
        {
          "output_type": "execute_result",
          "data": {
            "text/plain": [
              "95.55555555555556"
            ]
          },
          "metadata": {},
          "execution_count": 41
        }
      ]
    },
    {
      "cell_type": "code",
      "source": [
        "df['english'][:10].var()"
      ],
      "metadata": {
        "colab": {
          "base_uri": "https://localhost:8080/"
        },
        "id": "ucoJp8OkmWHO",
        "outputId": "afdfc5ef-6686-47ee-9ec7-a5ea2714a542"
      },
      "execution_count": null,
      "outputs": [
        {
          "output_type": "execute_result",
          "data": {
            "text/plain": [
              "95.55555555555556"
            ]
          },
          "metadata": {},
          "execution_count": 39
        }
      ]
    },
    {
      "cell_type": "code",
      "source": [
        "# 이것도 파라미터로 조절 가능\n",
        "df['english'][:10].var(ddof=0)"
      ],
      "metadata": {
        "colab": {
          "base_uri": "https://localhost:8080/"
        },
        "id": "ZzUfeLMKmZH4",
        "outputId": "87e47304-faa3-46b0-e0b5-216675742683"
      },
      "execution_count": null,
      "outputs": [
        {
          "output_type": "execute_result",
          "data": {
            "text/plain": [
              "86.0"
            ]
          },
          "metadata": {},
          "execution_count": 42
        }
      ]
    },
    {
      "cell_type": "markdown",
      "source": [
        "### 표준편차 구하기\n",
        "- 분산에 루트를 씌운 것"
      ],
      "metadata": {
        "id": "4H_MIBrTnHtj"
      }
    },
    {
      "cell_type": "code",
      "source": [
        "np.std(scores)"
      ],
      "metadata": {
        "colab": {
          "base_uri": "https://localhost:8080/"
        },
        "id": "dWbAvag8nAYt",
        "outputId": "82fa4d15-f2eb-450a-a65b-f711f7cddc33"
      },
      "execution_count": null,
      "outputs": [
        {
          "output_type": "execute_result",
          "data": {
            "text/plain": [
              "9.273618495495704"
            ]
          },
          "metadata": {},
          "execution_count": 43
        }
      ]
    },
    {
      "cell_type": "code",
      "source": [
        "df['english'][:10].std()"
      ],
      "metadata": {
        "colab": {
          "base_uri": "https://localhost:8080/"
        },
        "id": "5zSdhTPmnSMv",
        "outputId": "2fc1a31c-3d2d-40bf-8b44-cbff7fbd9bdd"
      },
      "execution_count": null,
      "outputs": [
        {
          "output_type": "execute_result",
          "data": {
            "text/plain": [
              "9.775252199076787"
            ]
          },
          "metadata": {},
          "execution_count": 44
        }
      ]
    },
    {
      "cell_type": "markdown",
      "source": [
        "판다스는 이러한 통계값을 한번에 계산할 수 있다.\n",
        "- describe를 통해"
      ],
      "metadata": {
        "id": "YYBFqWj6naTv"
      }
    },
    {
      "cell_type": "code",
      "source": [
        "df['english'][:10].describe()\n",
        "#개수, 평군, 표준편차, 최소최대 값 등등\n",
        "# 근데 median. 최빈값은 없네"
      ],
      "metadata": {
        "colab": {
          "base_uri": "https://localhost:8080/"
        },
        "id": "fBNQGieKnVPs",
        "outputId": "da714907-d7f8-43ad-ccc9-219eccee7c36"
      },
      "execution_count": null,
      "outputs": [
        {
          "output_type": "execute_result",
          "data": {
            "text/plain": [
              "count    10.000000\n",
              "mean     55.000000\n",
              "std       9.775252\n",
              "min      41.000000\n",
              "25%      48.250000\n",
              "50%      56.500000\n",
              "75%      63.250000\n",
              "max      69.000000\n",
              "Name: english, dtype: float64"
            ]
          },
          "metadata": {},
          "execution_count": 45
        }
      ]
    },
    {
      "cell_type": "markdown",
      "source": [
        "### 표준화와 편차\n",
        "- 일반적인 표준화는\n",
        "  - 데이터에서 평균을 빼고, 표준편차러 나누는 작업\n",
        "    - 자료들이 서로 다른 분포를 가지고 있다면, 비교작업이 어렵기 때문에\n",
        "    - 단점은\n",
        "      - 자료들이 정규분포임이 가정. 아니라면 최선이 아닐 수 있음\n",
        "    - 장점은 평균이나 분산에 상관없이 표준화된 지표를 얻을 수 있다.\n",
        "- 다른 방법은\n",
        "  - 최소/최대로 스케일링 하는 방법\n",
        "  - Robust 등"
      ],
      "metadata": {
        "id": "zHAo_3Lzo0FC"
      }
    },
    {
      "cell_type": "code",
      "source": [
        "z = (scores-mean) / np.std(scores)\n",
        "z # 표준화된 데이터\n",
        "#평균이 0이고, 편차는 +- 1이 된다."
      ],
      "metadata": {
        "colab": {
          "base_uri": "https://localhost:8080/"
        },
        "id": "-JBeky6bni6h",
        "outputId": "1025b67d-6819-488c-aadd-399993d92e3f"
      },
      "execution_count": null,
      "outputs": [
        {
          "output_type": "execute_result",
          "data": {
            "text/plain": [
              "array([-1.40182605,  1.50965882,  0.10783277, -1.50965882,  0.21566555,\n",
              "       -0.75482941,  1.07832773, -0.64699664,  1.07832773,  0.32349832])"
            ]
          },
          "metadata": {},
          "execution_count": 48
        }
      ]
    },
    {
      "cell_type": "markdown",
      "source": [
        "평균은 0이고, 편차는 1이 된다."
      ],
      "metadata": {
        "id": "QrVY5yJ1pwYO"
      }
    },
    {
      "cell_type": "code",
      "source": [
        "np.mean(z), np.std(z)"
      ],
      "metadata": {
        "colab": {
          "base_uri": "https://localhost:8080/"
        },
        "id": "_8XuJukPpkmN",
        "outputId": "44a60953-f5ae-44c4-a9bb-bc95e7143050"
      },
      "execution_count": null,
      "outputs": [
        {
          "output_type": "execute_result",
          "data": {
            "text/plain": [
              "(-1.6653345369377347e-17, 0.9999999999999999)"
            ]
          },
          "metadata": {},
          "execution_count": 49
        }
      ]
    },
    {
      "cell_type": "markdown",
      "source": [
        "편차값\n",
        "- 편균이 50, 표준편차가 10이 되도록 정규화\n",
        "- 편차값이 50이면 평균적인 결과\n",
        "- 50보다 클 수록 상위 결과라는 의미로 해석"
      ],
      "metadata": {
        "id": "zsJEoAvqqMLI"
      }
    },
    {
      "cell_type": "code",
      "source": [
        "z = 50 + 10 * (scores-mean) / np.std(scores)\n",
        "z\n",
        "# 첫번째는 평균보다 훨씬 낮구나\n",
        "# 두번째는 평균보다 높은 점수를 냈구나\n",
        "# 3번째는 거의 뭐 평균이구나\n",
        "# 이런 식으로 해석 가능"
      ],
      "metadata": {
        "colab": {
          "base_uri": "https://localhost:8080/"
        },
        "id": "VP5OOUnhp25e",
        "outputId": "e6ddaa39-7a1c-42bf-974d-40c06b7ff546"
      },
      "execution_count": null,
      "outputs": [
        {
          "output_type": "execute_result",
          "data": {
            "text/plain": [
              "array([35.98173948, 65.09658825, 51.07832773, 34.90341175, 52.15665546,\n",
              "       42.45170588, 60.78327732, 43.53003361, 60.78327732, 53.2349832 ])"
            ]
          },
          "metadata": {},
          "execution_count": 51
        }
      ]
    },
    {
      "cell_type": "markdown",
      "source": [
        "### 관계에 대한 통계\n",
        "- 자료와 자료같의 관게를 낱타내는 수치\n",
        "  - 수치일 뿐, 실제 관계를 수치만 가지고 정확하게 표현할 수 없다.\n",
        "  - 수치를 가지고 해석하는 것은 분석하는 사람의 몫\n",
        "- 2변수\n",
        "\n",
        "1. 상관관계\n",
        "- 공분산(Co-variance)\n",
        "- 두 변수 사이의 분산을 보는 것\n",
        "  - 결과적으로 두 변수의 분산이 같이 커지거나, 작아지면 상관성이 있다라고 해석\n",
        "  - 혹은 반대로, 분산이 커지는데 반대로 작아지거나, 분산이 작아지는데 반대로 커지거나 상관성이 있다고 해석\n",
        "\n",
        "- 공분산의 해석은 다음과 같다\n",
        "  - **cov > 0** : x가 큰값(혹은 작은값)을 가질 때, y도 큰값(혹은 작은값)을 가지는 경우\n",
        "    - x의 분산이 커질 때, y의 분산 또한 커지는 경우\n",
        "    - x의 분산이 작아질 때, y의 분산이 같이 작아지는 경우\n",
        "    - 두 변수를 곱하면 양수가 나옴\n",
        "    - 즉, x와 y사이에 양의 상관성이 있다고 해석\n",
        "  - **cov < 0** : x와 y가 반대인 경우\n",
        "    - x의 분산이 작아질 떄, y의 분산이 커지거나\n",
        "    - x의 분산이 커질 때, y의 분산이 작아지거나\n",
        "    - 한 쪽이 양수 일 때 다른 한쪽은 음수니까 곱하면 음수가 나옴\n",
        "    - 이런 경우에는 x와 y의 사이에 음의 상관성이 있다로 해석\n",
        "  - **cov = 0** 인 경우 (0에 가까울 경우)\n",
        "    - x의 분산과 상관없이 y가 존재하는 경우(그 반대도 마찬가지)\n",
        "    - 음수와 양수가 섞이기 때문에 0에 가까운 값을 가지게 된다.\n",
        "    - 두 변수는 상관성이 적다라고 봄\n",
        "\n",
        "- 단점\n",
        "  - 두 변수 사이의 상관성이 낮아도, 수치가 크면 ,공분산 값이 크게 나올 수 있다.\n",
        "  - 반대로 두 변수 사이의 상관서어ㅣ 높아도, 수치가 낮으면, 공분산 값은 작게 나올 가능성이 있다.\n",
        "  - **상관계수** : 공분산의 값을 -1과 1 사이의 값으로 표준화한 값\n",
        "    - -1 과 1에 가까울 수록 상관성이 높다고 해석\n",
        "    - 0에 가까울 수록 상관성이 낮다고 해석\n",
        "\n",
        "\n",
        "2. 인과관계\n",
        "- 추론통계에서 확인하고자 하는 것이 인과성이 될 수 있다.\n",
        "- 어떤 자료가 다른 자료의 원인이 되는 경우\n",
        "  - 모든 변수가 무조건 원인이 될 수 있는 것은 아니다\n"
      ],
      "metadata": {
        "id": "ecU2ImZIq3gl"
      }
    },
    {
      "cell_type": "code",
      "source": [
        "# 영어점수와 수학점수의 공분산을 계산\n",
        "en_scores = np.array(df['english'][:10])\n",
        "ma_scores = np.array(df['mathematics'][:10])"
      ],
      "metadata": {
        "id": "hJod11MFqcjv"
      },
      "execution_count": null,
      "outputs": []
    },
    {
      "cell_type": "code",
      "source": [
        "cov = np.cov( en_scores, ma_scores, ddof =0 ) # 책 예제와 동일하게 하려면 ddof=0\n",
        "cov"
      ],
      "metadata": {
        "colab": {
          "base_uri": "https://localhost:8080/"
        },
        "id": "W5dmK-P4tsjp",
        "outputId": "d31737ec-9cb9-48d0-bc25-b6f8c7248ab5"
      },
      "execution_count": null,
      "outputs": [
        {
          "output_type": "execute_result",
          "data": {
            "text/plain": [
              "array([[86.  , 62.8 ],\n",
              "       [62.8 , 68.44]])"
            ]
          },
          "metadata": {},
          "execution_count": 55
        }
      ]
    },
    {
      "cell_type": "code",
      "source": [
        "np.corrcoef( en_scores, ma_scores)\n",
        "# 상관이 있어보이네"
      ],
      "metadata": {
        "colab": {
          "base_uri": "https://localhost:8080/"
        },
        "id": "tz0iCWv5t2XQ",
        "outputId": "0580ea7f-850e-4ab2-dd9b-417710ff1fba"
      },
      "execution_count": null,
      "outputs": [
        {
          "output_type": "execute_result",
          "data": {
            "text/plain": [
              "array([[1.        , 0.81856923],\n",
              "       [0.81856923, 1.        ]])"
            ]
          },
          "metadata": {},
          "execution_count": 57
        }
      ]
    },
    {
      "cell_type": "code",
      "source": [
        "df[['english', 'mathematics']].corr()\n",
        "# 상관이 있어보여"
      ],
      "metadata": {
        "colab": {
          "base_uri": "https://localhost:8080/",
          "height": 112
        },
        "id": "EPh8zL9cuFUg",
        "outputId": "929ce6b3-68f0-455d-d5cd-5d2d6ea4715b"
      },
      "execution_count": null,
      "outputs": [
        {
          "output_type": "execute_result",
          "data": {
            "text/html": [
              "<div>\n",
              "<style scoped>\n",
              "    .dataframe tbody tr th:only-of-type {\n",
              "        vertical-align: middle;\n",
              "    }\n",
              "\n",
              "    .dataframe tbody tr th {\n",
              "        vertical-align: top;\n",
              "    }\n",
              "\n",
              "    .dataframe thead th {\n",
              "        text-align: right;\n",
              "    }\n",
              "</style>\n",
              "<table border=\"1\" class=\"dataframe\">\n",
              "  <thead>\n",
              "    <tr style=\"text-align: right;\">\n",
              "      <th></th>\n",
              "      <th>english</th>\n",
              "      <th>mathematics</th>\n",
              "    </tr>\n",
              "  </thead>\n",
              "  <tbody>\n",
              "    <tr>\n",
              "      <th>english</th>\n",
              "      <td>1.000000</td>\n",
              "      <td>0.723741</td>\n",
              "    </tr>\n",
              "    <tr>\n",
              "      <th>mathematics</th>\n",
              "      <td>0.723741</td>\n",
              "      <td>1.000000</td>\n",
              "    </tr>\n",
              "  </tbody>\n",
              "</table>\n",
              "</div>"
            ],
            "text/plain": [
              "              english  mathematics\n",
              "english      1.000000     0.723741\n",
              "mathematics  0.723741     1.000000"
            ]
          },
          "metadata": {},
          "execution_count": 58
        }
      ]
    },
    {
      "cell_type": "markdown",
      "source": [
        "두 변수의 상관성을 확인하기 좋은 시각화 'pair_plot'을 이용해 볼 수 있다\n",
        "- pait_plot은 변수가 많아지면, 굉장히 느려지기 때문에, 주의해야한다.\n"
      ],
      "metadata": {
        "id": "MdKcCZeIuW_R"
      }
    },
    {
      "cell_type": "code",
      "source": [
        "sns.pairplot( df[['english', 'mathematics']] )"
      ],
      "metadata": {
        "colab": {
          "base_uri": "https://localhost:8080/",
          "height": 392
        },
        "id": "EDieh-o1uQzE",
        "outputId": "51a1f9a4-8911-4cc8-95ff-008e3ab0be63"
      },
      "execution_count": null,
      "outputs": [
        {
          "output_type": "execute_result",
          "data": {
            "text/plain": [
              "<seaborn.axisgrid.PairGrid at 0x7f61480f5550>"
            ]
          },
          "metadata": {},
          "execution_count": 61
        },
        {
          "output_type": "display_data",
          "data": {
            "image/png": "[encoded data removed]",
            "text/plain": [
              "<Figure size 360x360 with 6 Axes>"
            ]
          },
          "metadata": {
            "needs_background": "light"
          }
        }
      ]
    },
    {
      "cell_type": "markdown",
      "source": [
        "### 형태 통계\n",
        "- 형태를 수치화한 것\n",
        "- 자료의 분포나 왜곡된 형태\n",
        "  - 왜도 : 편향. 중심을 기준으로 좌우의 데이터가 편향되어 있는 형태를 나타내는 수치\n",
        "    - 왼쪽으로 차우쳐져 있다-> 꼬리가 오른쪽\n",
        "\n",
        "  - 첨도 : 뾰족함의 정도\n",
        "    - 뾰족한 게 높을 수록 자료가 중심으로 모여있는. ^\n"
      ],
      "metadata": {
        "id": "Sne82cOLvznS"
      }
    },
    {
      "cell_type": "markdown",
      "source": [
        "### 추론통계\n",
        "- 표본을 통해서 모집단을 추론하는 과정\n",
        "  - ( 모집단 : 우리가 알고자 하는 것 )\n",
        "  \n",
        "  1. population을 모집단이라고 보고\n",
        "  2. 여기서 표본을 추출 - sample data\n",
        "  3. \n",
        "  4. 추정\n",
        "\n",
        "- 통계를 대하는 자세\n",
        "  - 마크트웨인\n",
        "    - 거짓말의 3가지 종류 : 거짓말 ,새빨간 거짓말, 통계\n",
        "    - 통계가 모집단의 모든 특징을 전부 설명할 수는 없다.\n",
        "  - 통계의 한계\n",
        "    - 일단! 모집단의 특성을 표본을 통해서 통계로 설명한다는 것은 매우 괜찮은 생각이다\n",
        "    - 표본의 특성이 꼭 모집단과 같을 거라는 보장이 없다.\n",
        "      - 표본이 모집단을 대표하는 특성인자 아닌지, 알 수 있는 방법도 없다.\n",
        "      - 누구도 알 수 없다.\n",
        "    - 표본을 통해서 모집단의 평균을 알 수 없지만, 추론(추측, 추정)은 가능하다\n",
        "      - 추측이니까.. 99%의 확률로 맞을 수도 있지만 , 1%의 확률로 틀릴 가능성 또한 반드시 존재\n",
        "  - 모집단을 알 수 없다.\n",
        "    - 모집단은 시간이 지나면서 변하기 때문에\n",
        "\n",
        "    - 일반적으로 ML/DL에서 하려는 건 과거의 데이터를 이용해서 현재나, 미래를 설명하고 싶은건데(이게 말이 되는가?)\n",
        "\n",
        "- 이후에 수업시간에 얘기하는 확률과 통계는 모집단을 가정하고 진행\n",
        "\n",
        "\n",
        "- 하지만 우리는 통계를 사용하지 않을 수는 없다.\n",
        "  - 통계가 아니고서는 대규모의 데이터를 해석할 수도, 설명할 수도 없다.\n",
        "  - 자료간의 다소의 차이는 있겠지만, 공통적인 특징은 확인할 수 있다.\n",
        "\n",
        "\n"
      ],
      "metadata": {
        "id": "HhrsZ9dfzs7Z"
      }
    },
    {
      "cell_type": "markdown",
      "source": [
        "## 모집단과 표본\n"
      ],
      "metadata": {
        "id": "gVGhDC6U7v8n"
      }
    },
    {
      "cell_type": "code",
      "source": [
        "df = pd.read_csv('/content/drive/MyDrive/멀티캠퍼스/기초통계/ch4_scores400.csv')\n",
        "scores = np.array(df['score'])\n",
        "scores[:10]"
      ],
      "metadata": {
        "colab": {
          "base_uri": "https://localhost:8080/"
        },
        "id": "dCLda_L3uj3G",
        "outputId": "8f83b115-d5ac-41a9-8b4b-509905212a85"
      },
      "execution_count": null,
      "outputs": [
        {
          "output_type": "execute_result",
          "data": {
            "text/plain": [
              "array([76, 55, 80, 80, 74, 61, 81, 76, 23, 80])"
            ]
          },
          "metadata": {},
          "execution_count": 66
        }
      ]
    },
    {
      "cell_type": "markdown",
      "source": [
        "복원 추출과 비복원 추출"
      ],
      "metadata": {
        "id": "XJQI61w58wnr"
      }
    },
    {
      "cell_type": "code",
      "source": [
        "np.random.choice(scores, 20)\n",
        "# 중복가능 - 복원추출"
      ],
      "metadata": {
        "colab": {
          "base_uri": "https://localhost:8080/"
        },
        "id": "7iP1KEbW8Spe",
        "outputId": "8ef46e8c-ef64-4d2c-aa9a-16a60a2346d4"
      },
      "execution_count": null,
      "outputs": [
        {
          "output_type": "execute_result",
          "data": {
            "text/plain": [
              "array([56, 84, 38, 84, 80, 58, 74, 72, 62, 87, 71, 87, 41, 68, 86, 54, 72,\n",
              "       61, 67, 62])"
            ]
          },
          "metadata": {},
          "execution_count": 68
        }
      ]
    },
    {
      "cell_type": "code",
      "source": [
        "np.random.choice(scores, 20, replace=False)\n",
        "# 중복되지 않는 - 비복원 추출"
      ],
      "metadata": {
        "colab": {
          "base_uri": "https://localhost:8080/"
        },
        "id": "NeoTIgfW8219",
        "outputId": "302271a1-0a86-4398-cc53-3bdb8a789e17"
      },
      "execution_count": null,
      "outputs": [
        {
          "output_type": "execute_result",
          "data": {
            "text/plain": [
              "array([ 63,  58, 100,  92,  63,  54, 100,  84,  42,  63,  80,  55,  68,\n",
              "        70,  78,  83,  63,  90,  86,  52])"
            ]
          },
          "metadata": {},
          "execution_count": 69
        }
      ]
    },
    {
      "cell_type": "code",
      "source": [
        "for i in range(5):\n",
        "  sample = np.random.choice(scores, 20)\n",
        "  print('{}번째 무작위 추출 얻은 표본 평균: {}'. format( i+1, sample.mean()))"
      ],
      "metadata": {
        "colab": {
          "base_uri": "https://localhost:8080/"
        },
        "id": "ogKZbciy8_Zt",
        "outputId": "0a2303b4-a496-4ff5-dd68-e776281e3e55"
      },
      "execution_count": null,
      "outputs": [
        {
          "output_type": "stream",
          "name": "stdout",
          "text": [
            "1번째 무작위 추출 얻은 표본 평균: 63.65\n",
            "2번째 무작위 추출 얻은 표본 평균: 75.85\n",
            "3번째 무작위 추출 얻은 표본 평균: 73.25\n",
            "4번째 무작위 추출 얻은 표본 평균: 62.25\n",
            "5번째 무작위 추출 얻은 표본 평균: 67.4\n"
          ]
        }
      ]
    },
    {
      "cell_type": "code",
      "source": [
        "# 실제 모집단의 평균\n",
        "scores.mean()"
      ],
      "metadata": {
        "colab": {
          "base_uri": "https://localhost:8080/"
        },
        "id": "6aWZYVL79Rrp",
        "outputId": "0e94c6f8-0d6b-4cb6-b127-0e4b1d36cc78"
      },
      "execution_count": null,
      "outputs": [
        {
          "output_type": "execute_result",
          "data": {
            "text/plain": [
              "69.53"
            ]
          },
          "metadata": {},
          "execution_count": 72
        }
      ]
    },
    {
      "cell_type": "code",
      "source": [
        ""
      ],
      "metadata": {
        "id": "CXS-9Vh89eML"
      },
      "execution_count": null,
      "outputs": []
    }
  ]
}