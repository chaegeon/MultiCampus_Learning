{
  "nbformat": 4,
  "nbformat_minor": 0,
  "metadata": {
    "colab": {
      "name": "시각화plot.ipynb",
      "provenance": [],
      "collapsed_sections": [],
      "mount_file_id": "1FOKxfVwxo-k1cdSVhssg77i2iTzyWX8c",
      "authorship_tag": "ABX9TyNyEsAyucAc72mougqQTzno",
      "include_colab_link": true
    },
    "kernelspec": {
      "name": "python3",
      "display_name": "Python 3"
    },
    "language_info": {
      "name": "python"
    }
  },
  "cells": [
    {
      "cell_type": "markdown",
      "metadata": {
        "id": "view-in-github",
        "colab_type": "text"
      },
      "source": [
        "<a href=\"https://colab.research.google.com/github/chaegeon/TIL/blob/master/%EC%8B%9C%EA%B0%81%ED%99%94plot.ipynb\" target=\"_parent\"><img src=\"https://colab.research.google.com/assets/colab-badge.svg\" alt=\"Open In Colab\"/></a>"
      ]
    },
    {
      "cell_type": "code",
      "execution_count": null,
      "metadata": {
        "id": "9OJJ_FqaJPHy"
      },
      "outputs": [],
      "source": [
        "import numpy as np\n",
        "import pandas as pd\n",
        "\n",
        "# 파이썬의 대표적인 시각화 라이브러리\n",
        "import matplotlib.pyplot as plt\n",
        "import seaborn as sns\n",
        "#시본을 쓰려면 기본적으로 맷플랏립도 임포트 해줘야 됨?"
      ]
    },
    {
      "cell_type": "code",
      "source": [
        "rawData = pd.read_csv('/content/drive/MyDrive/멀티캠퍼스/Data폴더/health_2016.csv')"
      ],
      "metadata": {
        "id": "L9DDscw5JujM"
      },
      "execution_count": null,
      "outputs": []
    },
    {
      "cell_type": "code",
      "source": [
        "rawData"
      ],
      "metadata": {
        "colab": {
          "base_uri": "https://localhost:8080/",
          "height": 582
        },
        "id": "Tru_gnYCJ03Y",
        "outputId": "936aba4c-4caf-4c6b-bdda-5573d759cc10"
      },
      "execution_count": null,
      "outputs": [
        {
          "output_type": "execute_result",
          "data": {
            "text/html": [
              "<div>\n",
              "<style scoped>\n",
              "    .dataframe tbody tr th:only-of-type {\n",
              "        vertical-align: middle;\n",
              "    }\n",
              "\n",
              "    .dataframe tbody tr th {\n",
              "        vertical-align: top;\n",
              "    }\n",
              "\n",
              "    .dataframe thead th {\n",
              "        text-align: right;\n",
              "    }\n",
              "</style>\n",
              "<table border=\"1\" class=\"dataframe\">\n",
              "  <thead>\n",
              "    <tr style=\"text-align: right;\">\n",
              "      <th></th>\n",
              "      <th>기준년도</th>\n",
              "      <th>가입자일련번호</th>\n",
              "      <th>성별코드</th>\n",
              "      <th>연령대코드(5세단위)</th>\n",
              "      <th>시도코드</th>\n",
              "      <th>신장(5Cm단위)</th>\n",
              "      <th>체중(5Kg단위)</th>\n",
              "      <th>허리둘레</th>\n",
              "      <th>시력(좌)</th>\n",
              "      <th>시력(우)</th>\n",
              "      <th>청력(좌)</th>\n",
              "      <th>청력(우)</th>\n",
              "      <th>수축기혈압</th>\n",
              "      <th>이완기혈압</th>\n",
              "      <th>식전혈당(공복혈당)</th>\n",
              "      <th>총콜레스테롤</th>\n",
              "      <th>트리글리세라이드</th>\n",
              "      <th>HDL콜레스테롤</th>\n",
              "      <th>LDL콜레스테롤</th>\n",
              "      <th>혈색소</th>\n",
              "      <th>요단백</th>\n",
              "      <th>혈청크레아티닌</th>\n",
              "      <th>(혈청지오티)AST</th>\n",
              "      <th>(혈청지오티)ALT</th>\n",
              "      <th>감마지티피</th>\n",
              "      <th>흡연상태</th>\n",
              "      <th>음주여부</th>\n",
              "      <th>구강검진 수검여부</th>\n",
              "      <th>치아우식증유무</th>\n",
              "      <th>결손치유무</th>\n",
              "      <th>치아마모증유무</th>\n",
              "      <th>제3대구치(사랑니)이상</th>\n",
              "      <th>치석</th>\n",
              "      <th>데이터공개일자</th>\n",
              "    </tr>\n",
              "  </thead>\n",
              "  <tbody>\n",
              "    <tr>\n",
              "      <th>0</th>\n",
              "      <td>2016</td>\n",
              "      <td>465969</td>\n",
              "      <td>1</td>\n",
              "      <td>8</td>\n",
              "      <td>41</td>\n",
              "      <td>170.0</td>\n",
              "      <td>70.0</td>\n",
              "      <td>74.0</td>\n",
              "      <td>0.7</td>\n",
              "      <td>0.7</td>\n",
              "      <td>1.0</td>\n",
              "      <td>1.0</td>\n",
              "      <td>118.0</td>\n",
              "      <td>70.0</td>\n",
              "      <td>85.0</td>\n",
              "      <td>194.0</td>\n",
              "      <td>97.0</td>\n",
              "      <td>54.0</td>\n",
              "      <td>120.0</td>\n",
              "      <td>14.6</td>\n",
              "      <td>2.0</td>\n",
              "      <td>1.1</td>\n",
              "      <td>31.0</td>\n",
              "      <td>36.0</td>\n",
              "      <td>96.0</td>\n",
              "      <td>3.0</td>\n",
              "      <td>NaN</td>\n",
              "      <td>1</td>\n",
              "      <td>NaN</td>\n",
              "      <td>NaN</td>\n",
              "      <td>NaN</td>\n",
              "      <td>NaN</td>\n",
              "      <td>2.0</td>\n",
              "      <td>20171219</td>\n",
              "    </tr>\n",
              "    <tr>\n",
              "      <th>1</th>\n",
              "      <td>2016</td>\n",
              "      <td>565871</td>\n",
              "      <td>1</td>\n",
              "      <td>10</td>\n",
              "      <td>41</td>\n",
              "      <td>160.0</td>\n",
              "      <td>60.0</td>\n",
              "      <td>81.0</td>\n",
              "      <td>1.2</td>\n",
              "      <td>1.0</td>\n",
              "      <td>1.0</td>\n",
              "      <td>1.0</td>\n",
              "      <td>134.0</td>\n",
              "      <td>84.0</td>\n",
              "      <td>105.0</td>\n",
              "      <td>143.0</td>\n",
              "      <td>84.0</td>\n",
              "      <td>33.0</td>\n",
              "      <td>93.0</td>\n",
              "      <td>16.2</td>\n",
              "      <td>1.0</td>\n",
              "      <td>1.0</td>\n",
              "      <td>20.0</td>\n",
              "      <td>23.0</td>\n",
              "      <td>14.0</td>\n",
              "      <td>1.0</td>\n",
              "      <td>NaN</td>\n",
              "      <td>0</td>\n",
              "      <td>NaN</td>\n",
              "      <td>NaN</td>\n",
              "      <td>NaN</td>\n",
              "      <td>NaN</td>\n",
              "      <td>NaN</td>\n",
              "      <td>20171219</td>\n",
              "    </tr>\n",
              "    <tr>\n",
              "      <th>2</th>\n",
              "      <td>2016</td>\n",
              "      <td>115718</td>\n",
              "      <td>2</td>\n",
              "      <td>11</td>\n",
              "      <td>11</td>\n",
              "      <td>160.0</td>\n",
              "      <td>55.0</td>\n",
              "      <td>71.0</td>\n",
              "      <td>1.0</td>\n",
              "      <td>1.0</td>\n",
              "      <td>1.0</td>\n",
              "      <td>1.0</td>\n",
              "      <td>129.0</td>\n",
              "      <td>85.0</td>\n",
              "      <td>86.0</td>\n",
              "      <td>203.0</td>\n",
              "      <td>52.0</td>\n",
              "      <td>51.0</td>\n",
              "      <td>141.0</td>\n",
              "      <td>14.0</td>\n",
              "      <td>1.0</td>\n",
              "      <td>0.8</td>\n",
              "      <td>17.0</td>\n",
              "      <td>14.0</td>\n",
              "      <td>20.0</td>\n",
              "      <td>1.0</td>\n",
              "      <td>NaN</td>\n",
              "      <td>1</td>\n",
              "      <td>NaN</td>\n",
              "      <td>NaN</td>\n",
              "      <td>NaN</td>\n",
              "      <td>NaN</td>\n",
              "      <td>0.0</td>\n",
              "      <td>20171219</td>\n",
              "    </tr>\n",
              "    <tr>\n",
              "      <th>3</th>\n",
              "      <td>2016</td>\n",
              "      <td>767524</td>\n",
              "      <td>1</td>\n",
              "      <td>6</td>\n",
              "      <td>28</td>\n",
              "      <td>180.0</td>\n",
              "      <td>70.0</td>\n",
              "      <td>79.0</td>\n",
              "      <td>1.0</td>\n",
              "      <td>0.9</td>\n",
              "      <td>1.0</td>\n",
              "      <td>1.0</td>\n",
              "      <td>137.0</td>\n",
              "      <td>78.0</td>\n",
              "      <td>92.0</td>\n",
              "      <td>154.0</td>\n",
              "      <td>53.0</td>\n",
              "      <td>55.0</td>\n",
              "      <td>94.0</td>\n",
              "      <td>14.6</td>\n",
              "      <td>1.0</td>\n",
              "      <td>1.0</td>\n",
              "      <td>21.0</td>\n",
              "      <td>23.0</td>\n",
              "      <td>16.0</td>\n",
              "      <td>1.0</td>\n",
              "      <td>NaN</td>\n",
              "      <td>0</td>\n",
              "      <td>NaN</td>\n",
              "      <td>NaN</td>\n",
              "      <td>NaN</td>\n",
              "      <td>NaN</td>\n",
              "      <td>NaN</td>\n",
              "      <td>20171219</td>\n",
              "    </tr>\n",
              "    <tr>\n",
              "      <th>4</th>\n",
              "      <td>2016</td>\n",
              "      <td>482178</td>\n",
              "      <td>2</td>\n",
              "      <td>9</td>\n",
              "      <td>11</td>\n",
              "      <td>160.0</td>\n",
              "      <td>60.0</td>\n",
              "      <td>85.0</td>\n",
              "      <td>0.8</td>\n",
              "      <td>1.2</td>\n",
              "      <td>1.0</td>\n",
              "      <td>1.0</td>\n",
              "      <td>92.0</td>\n",
              "      <td>60.0</td>\n",
              "      <td>90.0</td>\n",
              "      <td>239.0</td>\n",
              "      <td>148.0</td>\n",
              "      <td>46.0</td>\n",
              "      <td>163.0</td>\n",
              "      <td>10.3</td>\n",
              "      <td>1.0</td>\n",
              "      <td>0.9</td>\n",
              "      <td>17.0</td>\n",
              "      <td>12.0</td>\n",
              "      <td>13.0</td>\n",
              "      <td>1.0</td>\n",
              "      <td>NaN</td>\n",
              "      <td>1</td>\n",
              "      <td>NaN</td>\n",
              "      <td>NaN</td>\n",
              "      <td>NaN</td>\n",
              "      <td>NaN</td>\n",
              "      <td>0.0</td>\n",
              "      <td>20171219</td>\n",
              "    </tr>\n",
              "    <tr>\n",
              "      <th>...</th>\n",
              "      <td>...</td>\n",
              "      <td>...</td>\n",
              "      <td>...</td>\n",
              "      <td>...</td>\n",
              "      <td>...</td>\n",
              "      <td>...</td>\n",
              "      <td>...</td>\n",
              "      <td>...</td>\n",
              "      <td>...</td>\n",
              "      <td>...</td>\n",
              "      <td>...</td>\n",
              "      <td>...</td>\n",
              "      <td>...</td>\n",
              "      <td>...</td>\n",
              "      <td>...</td>\n",
              "      <td>...</td>\n",
              "      <td>...</td>\n",
              "      <td>...</td>\n",
              "      <td>...</td>\n",
              "      <td>...</td>\n",
              "      <td>...</td>\n",
              "      <td>...</td>\n",
              "      <td>...</td>\n",
              "      <td>...</td>\n",
              "      <td>...</td>\n",
              "      <td>...</td>\n",
              "      <td>...</td>\n",
              "      <td>...</td>\n",
              "      <td>...</td>\n",
              "      <td>...</td>\n",
              "      <td>...</td>\n",
              "      <td>...</td>\n",
              "      <td>...</td>\n",
              "      <td>...</td>\n",
              "    </tr>\n",
              "    <tr>\n",
              "      <th>995</th>\n",
              "      <td>2016</td>\n",
              "      <td>206725</td>\n",
              "      <td>2</td>\n",
              "      <td>12</td>\n",
              "      <td>41</td>\n",
              "      <td>150.0</td>\n",
              "      <td>60.0</td>\n",
              "      <td>86.0</td>\n",
              "      <td>0.8</td>\n",
              "      <td>0.8</td>\n",
              "      <td>1.0</td>\n",
              "      <td>1.0</td>\n",
              "      <td>117.0</td>\n",
              "      <td>80.0</td>\n",
              "      <td>121.0</td>\n",
              "      <td>226.0</td>\n",
              "      <td>103.0</td>\n",
              "      <td>73.0</td>\n",
              "      <td>132.0</td>\n",
              "      <td>13.6</td>\n",
              "      <td>1.0</td>\n",
              "      <td>0.9</td>\n",
              "      <td>24.0</td>\n",
              "      <td>36.0</td>\n",
              "      <td>34.0</td>\n",
              "      <td>1.0</td>\n",
              "      <td>NaN</td>\n",
              "      <td>0</td>\n",
              "      <td>NaN</td>\n",
              "      <td>NaN</td>\n",
              "      <td>NaN</td>\n",
              "      <td>NaN</td>\n",
              "      <td>NaN</td>\n",
              "      <td>20171219</td>\n",
              "    </tr>\n",
              "    <tr>\n",
              "      <th>996</th>\n",
              "      <td>2016</td>\n",
              "      <td>339681</td>\n",
              "      <td>2</td>\n",
              "      <td>12</td>\n",
              "      <td>48</td>\n",
              "      <td>155.0</td>\n",
              "      <td>55.0</td>\n",
              "      <td>66.0</td>\n",
              "      <td>0.8</td>\n",
              "      <td>0.7</td>\n",
              "      <td>1.0</td>\n",
              "      <td>1.0</td>\n",
              "      <td>122.0</td>\n",
              "      <td>85.0</td>\n",
              "      <td>103.0</td>\n",
              "      <td>181.0</td>\n",
              "      <td>70.0</td>\n",
              "      <td>81.0</td>\n",
              "      <td>86.0</td>\n",
              "      <td>11.0</td>\n",
              "      <td>1.0</td>\n",
              "      <td>0.7</td>\n",
              "      <td>24.0</td>\n",
              "      <td>20.0</td>\n",
              "      <td>21.0</td>\n",
              "      <td>1.0</td>\n",
              "      <td>NaN</td>\n",
              "      <td>0</td>\n",
              "      <td>NaN</td>\n",
              "      <td>NaN</td>\n",
              "      <td>NaN</td>\n",
              "      <td>NaN</td>\n",
              "      <td>NaN</td>\n",
              "      <td>20171219</td>\n",
              "    </tr>\n",
              "    <tr>\n",
              "      <th>997</th>\n",
              "      <td>2016</td>\n",
              "      <td>653494</td>\n",
              "      <td>2</td>\n",
              "      <td>11</td>\n",
              "      <td>11</td>\n",
              "      <td>155.0</td>\n",
              "      <td>45.0</td>\n",
              "      <td>66.0</td>\n",
              "      <td>1.2</td>\n",
              "      <td>1.0</td>\n",
              "      <td>1.0</td>\n",
              "      <td>1.0</td>\n",
              "      <td>104.0</td>\n",
              "      <td>71.0</td>\n",
              "      <td>80.0</td>\n",
              "      <td>222.0</td>\n",
              "      <td>46.0</td>\n",
              "      <td>61.0</td>\n",
              "      <td>152.0</td>\n",
              "      <td>13.2</td>\n",
              "      <td>1.0</td>\n",
              "      <td>0.8</td>\n",
              "      <td>18.0</td>\n",
              "      <td>14.0</td>\n",
              "      <td>16.0</td>\n",
              "      <td>1.0</td>\n",
              "      <td>NaN</td>\n",
              "      <td>1</td>\n",
              "      <td>NaN</td>\n",
              "      <td>NaN</td>\n",
              "      <td>NaN</td>\n",
              "      <td>NaN</td>\n",
              "      <td>0.0</td>\n",
              "      <td>20171219</td>\n",
              "    </tr>\n",
              "    <tr>\n",
              "      <th>998</th>\n",
              "      <td>2016</td>\n",
              "      <td>190984</td>\n",
              "      <td>2</td>\n",
              "      <td>14</td>\n",
              "      <td>41</td>\n",
              "      <td>145.0</td>\n",
              "      <td>50.0</td>\n",
              "      <td>80.0</td>\n",
              "      <td>0.5</td>\n",
              "      <td>0.5</td>\n",
              "      <td>1.0</td>\n",
              "      <td>1.0</td>\n",
              "      <td>133.0</td>\n",
              "      <td>68.0</td>\n",
              "      <td>91.0</td>\n",
              "      <td>164.0</td>\n",
              "      <td>101.0</td>\n",
              "      <td>52.0</td>\n",
              "      <td>91.0</td>\n",
              "      <td>13.9</td>\n",
              "      <td>1.0</td>\n",
              "      <td>0.8</td>\n",
              "      <td>37.0</td>\n",
              "      <td>25.0</td>\n",
              "      <td>17.0</td>\n",
              "      <td>1.0</td>\n",
              "      <td>NaN</td>\n",
              "      <td>0</td>\n",
              "      <td>NaN</td>\n",
              "      <td>NaN</td>\n",
              "      <td>NaN</td>\n",
              "      <td>NaN</td>\n",
              "      <td>NaN</td>\n",
              "      <td>20171219</td>\n",
              "    </tr>\n",
              "    <tr>\n",
              "      <th>999</th>\n",
              "      <td>2016</td>\n",
              "      <td>548105</td>\n",
              "      <td>1</td>\n",
              "      <td>6</td>\n",
              "      <td>41</td>\n",
              "      <td>170.0</td>\n",
              "      <td>80.0</td>\n",
              "      <td>85.0</td>\n",
              "      <td>1.2</td>\n",
              "      <td>1.5</td>\n",
              "      <td>1.0</td>\n",
              "      <td>1.0</td>\n",
              "      <td>121.0</td>\n",
              "      <td>72.0</td>\n",
              "      <td>94.0</td>\n",
              "      <td>202.0</td>\n",
              "      <td>82.0</td>\n",
              "      <td>42.0</td>\n",
              "      <td>144.0</td>\n",
              "      <td>15.6</td>\n",
              "      <td>1.0</td>\n",
              "      <td>1.0</td>\n",
              "      <td>18.0</td>\n",
              "      <td>19.0</td>\n",
              "      <td>33.0</td>\n",
              "      <td>3.0</td>\n",
              "      <td>NaN</td>\n",
              "      <td>1</td>\n",
              "      <td>NaN</td>\n",
              "      <td>NaN</td>\n",
              "      <td>NaN</td>\n",
              "      <td>NaN</td>\n",
              "      <td>0.0</td>\n",
              "      <td>20171219</td>\n",
              "    </tr>\n",
              "  </tbody>\n",
              "</table>\n",
              "<p>1000 rows × 34 columns</p>\n",
              "</div>"
            ],
            "text/plain": [
              "     기준년도  가입자일련번호  성별코드  연령대코드(5세단위)  ...  치아마모증유무  제3대구치(사랑니)이상   치석   데이터공개일자\n",
              "0    2016   465969     1            8  ...      NaN           NaN  2.0  20171219\n",
              "1    2016   565871     1           10  ...      NaN           NaN  NaN  20171219\n",
              "2    2016   115718     2           11  ...      NaN           NaN  0.0  20171219\n",
              "3    2016   767524     1            6  ...      NaN           NaN  NaN  20171219\n",
              "4    2016   482178     2            9  ...      NaN           NaN  0.0  20171219\n",
              "..    ...      ...   ...          ...  ...      ...           ...  ...       ...\n",
              "995  2016   206725     2           12  ...      NaN           NaN  NaN  20171219\n",
              "996  2016   339681     2           12  ...      NaN           NaN  NaN  20171219\n",
              "997  2016   653494     2           11  ...      NaN           NaN  0.0  20171219\n",
              "998  2016   190984     2           14  ...      NaN           NaN  NaN  20171219\n",
              "999  2016   548105     1            6  ...      NaN           NaN  0.0  20171219\n",
              "\n",
              "[1000 rows x 34 columns]"
            ]
          },
          "metadata": {},
          "execution_count": 3
        }
      ]
    },
    {
      "cell_type": "markdown",
      "source": [
        "# 시각화\n",
        "- 자료분석의 기본은 통계와 그래프\n",
        "  - 통계는 수치를 통해서 자료를 이해\n",
        "  - 시각화는 자료에 대한 직관적인 이해\n",
        "- 시각화 하는 방법은 정해져 있다\n",
        "  - 자료(변수)의 형태에 따라서, 그릴 수 있는 그래프는 이미 결정\n",
        "  - 자료(변수)의 갯수에 따라서, 그릴 수 있는 그래프는 이미 결정\n",
        "  - 전통적인 통게적인 분석에서 3변수 이상은 잘 타루지 않습니다.\n",
        "  - 현재 빅데이터는 아주아주 많은 변수를 다룬다고 보면 됩니다.\n",
        "  "
      ],
      "metadata": {
        "id": "4EQ3QWB9NqPN"
      }
    },
    {
      "cell_type": "markdown",
      "source": [
        "## 파이썬에서의 데이터 시각화\n",
        "- [matplotlib (맷플랏립)]()\n",
        "  - 가장 기본적인 시각화 라이브러리\n",
        "  - 파이썬에서제공하는 대부분의 다른 시각화 라이브러리들도 'matplotlib'을 기반으로 구현\n",
        "-[seaborn]()\n",
        "  -matplotlib 을 기반으로 만들어진 라이브러리\n",
        "  - 사용하기 쉽고, 예쁘게 만들어짐\n",
        "  - 기본 디자인들이 정해져있다..?\n",
        "  - 주로, 자료의 시각화를 하는 경우에 많이 사용\n",
        "\n",
        "- 보통 디테일한 설정은 matplotlib에서 하고, 간단한 건 seaborn 에서?..\n",
        "\n",
        "- [plotly]()\n",
        "  - 장점은 예쁘고, 사용하기도 편함\n",
        "  - 특히 3차원 그래프도 편하게 그릴 수 있음\n",
        "  - 인터렉티브한 사용이 가능(회전, 확대, 클릭...)\n",
        "\n",
        "  - 단점은 많이 무겁다. -> 느림\n",
        "  - 수업시간에는 잘 안 씀"
      ],
      "metadata": {
        "id": "jJ7kXGnjOJuN"
      }
    },
    {
      "cell_type": "markdown",
      "source": [
        "## 한글화\n",
        "- 기본적으로 matplotlib은 한글을 지원하지 않음\n",
        "  - matplotlib이 사용하는 폰트가 한글을 지원하지 않음(표현을 못 해서 한글이 깨짐)\n",
        "  - 결국 한글을 사용하려면 폰트를 바꿔줘야 함\n",
        "    - 일반적으로 폰트를 바꾸는 게 까다롭지 않은데, 콜랩에서는 까다로움\n",
        "      - 가상환경(클라우드)이라서, 작업을 하면 작업내용이 저장되지 않음\n",
        "      - -> 폰트를 성치해도 다음에 다시 실행하면 폰트가 없음\n",
        "      - -> 매번 폰트를 다시 설치해야 함)"
      ],
      "metadata": {
        "id": "EBu-xkZQP6SL"
      }
    },
    {
      "cell_type": "code",
      "source": [
        "# 일단 그래프를 그려봄\n",
        "x = np.linspace(1, 10, 10)\n",
        "y = x * x ** 2\n",
        "plt.plot(x,y)\n",
        "plt.title('한글이 나오지 않습니다')\n",
        "# 한글이 깨져나오는 거임"
      ],
      "metadata": {
        "colab": {
          "base_uri": "https://localhost:8080/",
          "height": 994
        },
        "id": "aQdugOY_J2Kq",
        "outputId": "000aeb23-717c-40ab-ec95-7ded1ba58424"
      },
      "execution_count": null,
      "outputs": [
        {
          "output_type": "execute_result",
          "data": {
            "text/plain": [
              "Text(0.5, 1.0, '한글이 나오지 않습니다')"
            ]
          },
          "metadata": {},
          "execution_count": 4
        },
        {
          "output_type": "stream",
          "name": "stderr",
          "text": [
            "/usr/local/lib/python3.7/dist-packages/matplotlib/backends/backend_agg.py:214: RuntimeWarning: Glyph 54620 missing from current font.\n",
            "  font.set_text(s, 0.0, flags=flags)\n",
            "/usr/local/lib/python3.7/dist-packages/matplotlib/backends/backend_agg.py:214: RuntimeWarning: Glyph 44544 missing from current font.\n",
            "  font.set_text(s, 0.0, flags=flags)\n",
            "/usr/local/lib/python3.7/dist-packages/matplotlib/backends/backend_agg.py:214: RuntimeWarning: Glyph 51060 missing from current font.\n",
            "  font.set_text(s, 0.0, flags=flags)\n",
            "/usr/local/lib/python3.7/dist-packages/matplotlib/backends/backend_agg.py:214: RuntimeWarning: Glyph 45208 missing from current font.\n",
            "  font.set_text(s, 0.0, flags=flags)\n",
            "/usr/local/lib/python3.7/dist-packages/matplotlib/backends/backend_agg.py:214: RuntimeWarning: Glyph 50724 missing from current font.\n",
            "  font.set_text(s, 0.0, flags=flags)\n",
            "/usr/local/lib/python3.7/dist-packages/matplotlib/backends/backend_agg.py:214: RuntimeWarning: Glyph 51648 missing from current font.\n",
            "  font.set_text(s, 0.0, flags=flags)\n",
            "/usr/local/lib/python3.7/dist-packages/matplotlib/backends/backend_agg.py:214: RuntimeWarning: Glyph 50506 missing from current font.\n",
            "  font.set_text(s, 0.0, flags=flags)\n",
            "/usr/local/lib/python3.7/dist-packages/matplotlib/backends/backend_agg.py:214: RuntimeWarning: Glyph 49845 missing from current font.\n",
            "  font.set_text(s, 0.0, flags=flags)\n",
            "/usr/local/lib/python3.7/dist-packages/matplotlib/backends/backend_agg.py:214: RuntimeWarning: Glyph 45768 missing from current font.\n",
            "  font.set_text(s, 0.0, flags=flags)\n",
            "/usr/local/lib/python3.7/dist-packages/matplotlib/backends/backend_agg.py:214: RuntimeWarning: Glyph 45796 missing from current font.\n",
            "  font.set_text(s, 0.0, flags=flags)\n",
            "/usr/local/lib/python3.7/dist-packages/matplotlib/backends/backend_agg.py:183: RuntimeWarning: Glyph 54620 missing from current font.\n",
            "  font.set_text(s, 0, flags=flags)\n",
            "/usr/local/lib/python3.7/dist-packages/matplotlib/backends/backend_agg.py:183: RuntimeWarning: Glyph 44544 missing from current font.\n",
            "  font.set_text(s, 0, flags=flags)\n",
            "/usr/local/lib/python3.7/dist-packages/matplotlib/backends/backend_agg.py:183: RuntimeWarning: Glyph 51060 missing from current font.\n",
            "  font.set_text(s, 0, flags=flags)\n",
            "/usr/local/lib/python3.7/dist-packages/matplotlib/backends/backend_agg.py:183: RuntimeWarning: Glyph 45208 missing from current font.\n",
            "  font.set_text(s, 0, flags=flags)\n",
            "/usr/local/lib/python3.7/dist-packages/matplotlib/backends/backend_agg.py:183: RuntimeWarning: Glyph 50724 missing from current font.\n",
            "  font.set_text(s, 0, flags=flags)\n",
            "/usr/local/lib/python3.7/dist-packages/matplotlib/backends/backend_agg.py:183: RuntimeWarning: Glyph 51648 missing from current font.\n",
            "  font.set_text(s, 0, flags=flags)\n",
            "/usr/local/lib/python3.7/dist-packages/matplotlib/backends/backend_agg.py:183: RuntimeWarning: Glyph 50506 missing from current font.\n",
            "  font.set_text(s, 0, flags=flags)\n",
            "/usr/local/lib/python3.7/dist-packages/matplotlib/backends/backend_agg.py:183: RuntimeWarning: Glyph 49845 missing from current font.\n",
            "  font.set_text(s, 0, flags=flags)\n",
            "/usr/local/lib/python3.7/dist-packages/matplotlib/backends/backend_agg.py:183: RuntimeWarning: Glyph 45768 missing from current font.\n",
            "  font.set_text(s, 0, flags=flags)\n",
            "/usr/local/lib/python3.7/dist-packages/matplotlib/backends/backend_agg.py:183: RuntimeWarning: Glyph 45796 missing from current font.\n",
            "  font.set_text(s, 0, flags=flags)\n"
          ]
        },
        {
          "output_type": "display_data",
          "data": {
            "image/png": "[encoded data removed]",
            "text/plain": [
              "<Figure size 432x288 with 1 Axes>"
            ]
          },
          "metadata": {
            "needs_background": "light"
          }
        }
      ]
    },
    {
      "cell_type": "markdown",
      "source": [
        "## 폰트 설정"
      ],
      "metadata": {
        "id": "9LEl0SWZRAvd"
      }
    },
    {
      "cell_type": "markdown",
      "source": [
        "### 1. 라이브러리 임포트"
      ],
      "metadata": {
        "id": "ClouUwELRouW"
      }
    },
    {
      "cell_type": "code",
      "source": [
        "# 폰트설정을 위한 라이브러리 임포트\n",
        "from matplotlib import font_manager, rcParams"
      ],
      "metadata": {
        "id": "6ytf8SVYQvI2"
      },
      "execution_count": null,
      "outputs": []
    },
    {
      "cell_type": "markdown",
      "source": [
        "### 2. 한글표현이 가능한 폰트 설치"
      ],
      "metadata": {
        "id": "QNX6FDb6RsCV"
      }
    },
    {
      "cell_type": "code",
      "source": [
        "# 한글 표현이 가능한 폰트를 설치\n",
        "!apt-get install fonts-nanum*\n",
        "# 한글화할 때마다 매번 해줘야 됨"
      ],
      "metadata": {
        "colab": {
          "base_uri": "https://localhost:8080/"
        },
        "id": "HF6GYS_zRVIV",
        "outputId": "5bf33319-7a48-465c-c9f9-73f58af78fa5"
      },
      "execution_count": null,
      "outputs": [
        {
          "output_type": "stream",
          "name": "stdout",
          "text": [
            "Reading package lists... Done\n",
            "Building dependency tree       \n",
            "Reading state information... Done\n",
            "Note, selecting 'fonts-nanum-eco' for glob 'fonts-nanum*'\n",
            "Note, selecting 'fonts-nanum' for glob 'fonts-nanum*'\n",
            "Note, selecting 'fonts-nanum-gothic-light' for glob 'fonts-nanum*'\n",
            "Note, selecting 'fonts-nanum-coding' for glob 'fonts-nanum*'\n",
            "Note, selecting 'fonts-nanum-extra' for glob 'fonts-nanum*'\n",
            "fonts-nanum is already the newest version (20170925-1).\n",
            "fonts-nanum-coding is already the newest version (2.5-1).\n",
            "fonts-nanum-eco is already the newest version (1.000-6).\n",
            "fonts-nanum-extra is already the newest version (20170925-1).\n",
            "0 upgraded, 0 newly installed, 0 to remove and 37 not upgraded.\n"
          ]
        }
      ]
    },
    {
      "cell_type": "markdown",
      "source": [
        "### 3. 설치된 폰트를 확인"
      ],
      "metadata": {
        "id": "t1CnujS0RxP7"
      }
    },
    {
      "cell_type": "code",
      "source": [
        "font_manager.findSystemFonts(fontext='ttf')"
      ],
      "metadata": {
        "colab": {
          "base_uri": "https://localhost:8080/"
        },
        "id": "0fqQ8yZ7RdM6",
        "outputId": "34012cb2-e15a-4dfa-b563-b22f0a50617b"
      },
      "execution_count": null,
      "outputs": [
        {
          "output_type": "execute_result",
          "data": {
            "text/plain": [
              "['/usr/share/fonts/truetype/liberation/LiberationSerif-Bold.ttf',\n",
              " '/usr/share/fonts/truetype/nanum/NanumSquareEB.ttf',\n",
              " '/usr/share/fonts/truetype/nanum/NanumBarunGothicLight.ttf',\n",
              " '/usr/share/fonts/truetype/liberation/LiberationSerif-BoldItalic.ttf',\n",
              " '/usr/share/fonts/truetype/nanum/NanumSquareRoundB.ttf',\n",
              " '/usr/share/fonts/truetype/nanum/NanumBarunpenB.ttf',\n",
              " '/usr/share/fonts/truetype/nanum/NanumMyeongjoExtraBold.ttf',\n",
              " '/usr/share/fonts/truetype/nanum/NanumSquareB.ttf',\n",
              " '/usr/share/fonts/truetype/nanum/NanumBrush.ttf',\n",
              " '/usr/share/fonts/truetype/nanum/NanumSquareRoundR.ttf',\n",
              " '/usr/share/fonts/truetype/nanum/NanumGothicEcoBold.ttf',\n",
              " '/usr/share/fonts/truetype/nanum/NanumMyeongjoEcoBold.ttf',\n",
              " '/usr/share/fonts/truetype/nanum/NanumGothicCoding.ttf',\n",
              " '/usr/share/fonts/truetype/nanum/NanumMyeongjoEcoExtraBold.ttf',\n",
              " '/usr/share/fonts/truetype/liberation/LiberationSans-Regular.ttf',\n",
              " '/usr/share/fonts/truetype/liberation/LiberationSansNarrow-Regular.ttf',\n",
              " '/usr/share/fonts/truetype/liberation/LiberationMono-Bold.ttf',\n",
              " '/usr/share/fonts/truetype/nanum/NanumBarunGothicBold.ttf',\n",
              " '/usr/share/fonts/truetype/liberation/LiberationSansNarrow-BoldItalic.ttf',\n",
              " '/usr/share/fonts/truetype/nanum/NanumBarunGothicUltraLight.ttf',\n",
              " '/usr/share/fonts/truetype/liberation/LiberationMono-Regular.ttf',\n",
              " '/usr/share/fonts/truetype/liberation/LiberationMono-Italic.ttf',\n",
              " '/usr/share/fonts/truetype/liberation/LiberationSerif-Regular.ttf',\n",
              " '/usr/share/fonts/truetype/liberation/LiberationMono-BoldItalic.ttf',\n",
              " '/usr/share/fonts/truetype/nanum/NanumSquareRoundEB.ttf',\n",
              " '/usr/share/fonts/truetype/nanum/NanumGothicExtraBold.ttf',\n",
              " '/usr/share/fonts/truetype/liberation/LiberationSans-BoldItalic.ttf',\n",
              " '/usr/share/fonts/truetype/nanum/NanumPen.ttf',\n",
              " '/usr/share/fonts/truetype/nanum/NanumBarunGothic.ttf',\n",
              " '/usr/share/fonts/truetype/nanum/NanumBarunpenR.ttf',\n",
              " '/usr/share/fonts/truetype/nanum/NanumGothicLight.ttf',\n",
              " '/usr/share/fonts/truetype/liberation/LiberationSansNarrow-Bold.ttf',\n",
              " '/usr/share/fonts/truetype/nanum/NanumMyeongjo.ttf',\n",
              " '/usr/share/fonts/truetype/nanum/NanumSquareRoundL.ttf',\n",
              " '/usr/share/fonts/truetype/liberation/LiberationSerif-Italic.ttf',\n",
              " '/usr/share/fonts/truetype/humor-sans/Humor-Sans.ttf',\n",
              " '/usr/share/fonts/truetype/nanum/NanumGothicEcoExtraBold.ttf',\n",
              " '/usr/share/fonts/truetype/nanum/NanumSquareR.ttf',\n",
              " '/usr/share/fonts/truetype/liberation/LiberationSans-Bold.ttf',\n",
              " '/usr/share/fonts/truetype/nanum/NanumMyeongjoBold.ttf',\n",
              " '/usr/share/fonts/truetype/nanum/NanumMyeongjoEco.ttf',\n",
              " '/usr/share/fonts/truetype/nanum/NanumGothic.ttf',\n",
              " '/usr/share/fonts/truetype/liberation/LiberationSans-Italic.ttf',\n",
              " '/usr/share/fonts/truetype/nanum/NanumGothicCoding-Bold.ttf',\n",
              " '/usr/share/fonts/truetype/liberation/LiberationSansNarrow-Italic.ttf',\n",
              " '/usr/share/fonts/truetype/nanum/NanumSquareL.ttf',\n",
              " '/usr/share/fonts/truetype/nanum/NanumGothicEco.ttf',\n",
              " '/usr/share/fonts/truetype/nanum/NanumGothicBold.ttf']"
            ]
          },
          "metadata": {},
          "execution_count": 7
        }
      ]
    },
    {
      "cell_type": "markdown",
      "source": [
        "### 4. 설치된 폰트의 이름 확인"
      ],
      "metadata": {
        "id": "IGMsyu5hSHeN"
      }
    },
    {
      "cell_type": "code",
      "source": [
        "font_manager.FontProperties( fname='/usr/share/fonts/truetype/nanum/NanumSquareR.ttf').get_name()"
      ],
      "metadata": {
        "colab": {
          "base_uri": "https://localhost:8080/",
          "height": 34
        },
        "id": "2iThdno7R8G-",
        "outputId": "4270bfb0-b2a5-4c30-f2ac-a2c03e8724cb"
      },
      "execution_count": null,
      "outputs": [
        {
          "output_type": "execute_result",
          "data": {
            "application/vnd.google.colaboratory.intrinsic+json": {
              "type": "string"
            },
            "text/plain": [
              "'NanumSquare'"
            ]
          },
          "metadata": {},
          "execution_count": 8
        }
      ]
    },
    {
      "cell_type": "markdown",
      "source": [
        "### 5. 폰트설정"
      ],
      "metadata": {
        "id": "QGlZDooDSbDy"
      }
    },
    {
      "cell_type": "code",
      "source": [
        "# 폰트를 변경\n",
        "rcParams['font.family'] = 'NanumSquare'\n",
        "\n",
        "# -부호도 깨져서 나오기 때문에, 같이 설정\n",
        "rcParams['axes.unicode_minus'] = False"
      ],
      "metadata": {
        "id": "9qK_wVAqSWig"
      },
      "execution_count": null,
      "outputs": []
    },
    {
      "cell_type": "code",
      "source": [
        "#설정을 변경했으면 , rebuild를 통해서 변경된 설정을 적용\n",
        "font_manager._rebuild"
      ],
      "metadata": {
        "colab": {
          "base_uri": "https://localhost:8080/"
        },
        "id": "AKcRVnP7Svla",
        "outputId": "4756a807-565b-4877-a836-e85171dd0923"
      },
      "execution_count": null,
      "outputs": [
        {
          "output_type": "execute_result",
          "data": {
            "text/plain": [
              "<function matplotlib.font_manager._rebuild>"
            ]
          },
          "metadata": {},
          "execution_count": 10
        }
      ]
    },
    {
      "cell_type": "code",
      "source": [
        "# 이제 런타임 재실행.즉 한번 껐다 켜야됨"
      ],
      "metadata": {
        "id": "jh-uosmUS05q"
      },
      "execution_count": null,
      "outputs": []
    },
    {
      "cell_type": "markdown",
      "source": [
        "## 전체 코드\n",
        "- 아래의 명령을 두 번 실행해야 한다\n",
        "  - 아래의 명령어들을 한 번 실행한 후에\n",
        "  - 런타임 다시 시작 후 모두 실행\n",
        "  - 그래서 2번 실행이라는 거임\n",
        "  ```\n",
        "from matplotlib import font_manager, rcParams\n",
        "!apt-get install fonts-nanum*\n",
        "rcParams['font.family'] = 'NanumGothicCoding'\n",
        "rcParams['axes.unicode_minus'] = False\n",
        "font_manager._rebuild()\n",
        "  ```\n"
      ],
      "metadata": {
        "id": "OlWzAM37S-E-"
      }
    },
    {
      "cell_type": "code",
      "source": [
        "from matplotlib import font_manager, rcParams\n",
        "!apt-get install fonts-nanum*\n",
        "rcParams['font.family'] = 'NanumGothicCoding'\n",
        "rcParams['axes.unicode_minus'] = False\n",
        "font_manager._rebuild()"
      ],
      "metadata": {
        "colab": {
          "base_uri": "https://localhost:8080/"
        },
        "id": "_jNSLQP6shNg",
        "outputId": "044187d8-072c-45d9-d928-09b49340ce75"
      },
      "execution_count": null,
      "outputs": [
        {
          "output_type": "stream",
          "name": "stdout",
          "text": [
            "Reading package lists... Done\n",
            "Building dependency tree       \n",
            "Reading state information... Done\n",
            "Note, selecting 'fonts-nanum-eco' for glob 'fonts-nanum*'\n",
            "Note, selecting 'fonts-nanum' for glob 'fonts-nanum*'\n",
            "Note, selecting 'fonts-nanum-gothic-light' for glob 'fonts-nanum*'\n",
            "Note, selecting 'fonts-nanum-coding' for glob 'fonts-nanum*'\n",
            "Note, selecting 'fonts-nanum-extra' for glob 'fonts-nanum*'\n",
            "fonts-nanum is already the newest version (20170925-1).\n",
            "fonts-nanum-coding is already the newest version (2.5-1).\n",
            "fonts-nanum-eco is already the newest version (1.000-6).\n",
            "fonts-nanum-extra is already the newest version (20170925-1).\n",
            "0 upgraded, 0 newly installed, 0 to remove and 37 not upgraded.\n"
          ]
        }
      ]
    },
    {
      "cell_type": "code",
      "source": [
        "from matplotlib import font_manager, rcParams\n",
        "!apt-get install fonts-nanum*\n",
        "rcParams['font.family'] = 'NanumGothicCoding'\n",
        "rcParams['axes.unicode_minus'] = False\n",
        "font_manager._rebuild()"
      ],
      "metadata": {
        "colab": {
          "base_uri": "https://localhost:8080/"
        },
        "id": "BjQ_pJrPTVFR",
        "outputId": "300820a6-ae3f-407a-9381-72f850436e7b"
      },
      "execution_count": null,
      "outputs": [
        {
          "output_type": "stream",
          "name": "stdout",
          "text": [
            "Reading package lists... Done\n",
            "Building dependency tree       \n",
            "Reading state information... Done\n",
            "Note, selecting 'fonts-nanum-eco' for glob 'fonts-nanum*'\n",
            "Note, selecting 'fonts-nanum' for glob 'fonts-nanum*'\n",
            "Note, selecting 'fonts-nanum-gothic-light' for glob 'fonts-nanum*'\n",
            "Note, selecting 'fonts-nanum-coding' for glob 'fonts-nanum*'\n",
            "Note, selecting 'fonts-nanum-extra' for glob 'fonts-nanum*'\n",
            "fonts-nanum is already the newest version (20170925-1).\n",
            "fonts-nanum-coding is already the newest version (2.5-1).\n",
            "fonts-nanum-eco is already the newest version (1.000-6).\n",
            "fonts-nanum-extra is already the newest version (20170925-1).\n",
            "0 upgraded, 0 newly installed, 0 to remove and 37 not upgraded.\n"
          ]
        }
      ]
    },
    {
      "cell_type": "code",
      "source": [
        "x = np.linspace(1, 10, 10)\n",
        "y = x * x ** 2\n",
        "plt.plot(x,y)\n",
        "plt.title('한글이 나오지 않습니다')"
      ],
      "metadata": {
        "colab": {
          "base_uri": "https://localhost:8080/",
          "height": 297
        },
        "id": "lXvWvoBTTXNm",
        "outputId": "e60c46a4-a28a-4e24-d20c-599791e9ca9c"
      },
      "execution_count": null,
      "outputs": [
        {
          "output_type": "execute_result",
          "data": {
            "text/plain": [
              "Text(0.5, 1.0, '한글이 나오지 않습니다')"
            ]
          },
          "metadata": {},
          "execution_count": 14
        },
        {
          "output_type": "display_data",
          "data": {
            "image/png": "[encoded data removed]",
            "text/plain": [
              "<Figure size 432x288 with 1 Axes>"
            ]
          },
          "metadata": {
            "needs_background": "light"
          }
        }
      ]
    },
    {
      "cell_type": "markdown",
      "source": [
        "# 그래프를 그리는 기준\n",
        "- 통계분석에서도 동일한 기준으로 분석을 한다\n",
        "1. 자료의 형태(변수의 종류)\n",
        "  - 범주형과 연속형 자료로 구분해 볼 수 있다\n",
        "  - 질적변수 Vs. 양적변수\n",
        "  - 질적변수는 범주형, 양적변수는 연속형이라고 볼 수 있다.\n",
        "  - 질적변수 : 변수의 값이 비수치적, 특정 카테고리에 포함되는 경우(남녀,지역,혈액형 등)(머신러닝은 가능하지만 알고리즘은 양적변수로 바꿔야 한다?...)\n",
        "    - 명목형 : 특정 범주에 포함되지만 순위를 갖지 않는 경(성별, 혈액형 등)\n",
        "    - 순위형 : 특정 범주에 포함되는데 순위를 갖는 경우(성적(A,B,C,D), 등급 등)\n",
        "\n",
        "\n",
        "      - 어쨌든 양적변수로 바꿔줘야 함. 숫자형태로\n",
        "\n",
        "\n",
        "  - 양적변수 : 변수의 값이 수칙적이고, 연속적인 경우(키, 나이 등)\n",
        "    - 이산형 : 셀 수 있는 경우(보통 정수인 경우) \n",
        "    - 연속형 : 셀 수 없는 경우(보통 실수인 경우)\n",
        "  - 키(180으로 볼것인가, 180.2로 볼 것인가) 또는 나이(20살로 볼 것인가 20대 카테고리로 볼 것인가) 등등 딱 떨어지는 건 아님 애매함 이런건 분석가가 정하는 듯?\n",
        "\n",
        "2. 자료의 차원\n",
        "- 변수의 개수는 차원이 된다.\n",
        "- 변수의 개수가 많아질 수록 차원이 높아짐\n",
        "- 차원이 높으면, 시각화를 해볼 수 없다.\n",
        "  - 보통 시각화는 최대 2차원의 화면에서 3차원까지만 나타낼 수 있다\n",
        " - 1차원\n",
        "  - 일변수(일변량) : 변수 하나에 대한 시각화\n",
        "  - 변수의 분포 등을 확인\n",
        " - 2차원\n",
        "  - 이변수(이변량) : 자료의 개수가 2개를 넘어가면 다변수(다변량)이라고 표현을 함\n",
        "    - 변수와 변수의 관계(상관성 등)를 확인하고 싶은 경우\n",
        "    - 연속형 변수와 연속형 변수\n",
        "    - 연속형 변수와 이산형 변수\n",
        "    - 이산형 변수와 이산형 변수"
      ],
      "metadata": {
        "id": "OMeRd_DhtpiC"
      }
    },
    {
      "cell_type": "markdown",
      "source": [
        "## 1차원 시각화\n",
        "- 변수 1개인 경우\n",
        "  - 범주형인 경우 : countplot(빈도 확인) 프리퀀시 등 확인?\n",
        "  - 연속형인 경우 : hisplot, displot, barplot 연속형이거나 수치적인 경우\n",
        "  "
      ],
      "metadata": {
        "id": "MDuChV6IxepJ"
      }
    },
    {
      "cell_type": "code",
      "source": [
        "rawData.describe(include='all').T"
      ],
      "metadata": {
        "id": "NEYLbRtYTf95",
        "colab": {
          "base_uri": "https://localhost:8080/",
          "height": 1000
        },
        "outputId": "9e911b36-910d-412c-bd7a-a2817832acb9"
      },
      "execution_count": null,
      "outputs": [
        {
          "output_type": "execute_result",
          "data": {
            "text/html": [
              "<div>\n",
              "<style scoped>\n",
              "    .dataframe tbody tr th:only-of-type {\n",
              "        vertical-align: middle;\n",
              "    }\n",
              "\n",
              "    .dataframe tbody tr th {\n",
              "        vertical-align: top;\n",
              "    }\n",
              "\n",
              "    .dataframe thead th {\n",
              "        text-align: right;\n",
              "    }\n",
              "</style>\n",
              "<table border=\"1\" class=\"dataframe\">\n",
              "  <thead>\n",
              "    <tr style=\"text-align: right;\">\n",
              "      <th></th>\n",
              "      <th>count</th>\n",
              "      <th>mean</th>\n",
              "      <th>std</th>\n",
              "      <th>min</th>\n",
              "      <th>25%</th>\n",
              "      <th>50%</th>\n",
              "      <th>75%</th>\n",
              "      <th>max</th>\n",
              "    </tr>\n",
              "  </thead>\n",
              "  <tbody>\n",
              "    <tr>\n",
              "      <th>기준년도</th>\n",
              "      <td>1000.0</td>\n",
              "      <td>2.016000e+03</td>\n",
              "      <td>0.000000</td>\n",
              "      <td>2016.0</td>\n",
              "      <td>2016.00</td>\n",
              "      <td>2016.0</td>\n",
              "      <td>2016.00</td>\n",
              "      <td>2016.0</td>\n",
              "    </tr>\n",
              "    <tr>\n",
              "      <th>가입자일련번호</th>\n",
              "      <td>1000.0</td>\n",
              "      <td>5.097498e+05</td>\n",
              "      <td>289935.019365</td>\n",
              "      <td>87.0</td>\n",
              "      <td>249239.75</td>\n",
              "      <td>536235.5</td>\n",
              "      <td>765463.00</td>\n",
              "      <td>999514.0</td>\n",
              "    </tr>\n",
              "    <tr>\n",
              "      <th>성별코드</th>\n",
              "      <td>1000.0</td>\n",
              "      <td>1.487000e+00</td>\n",
              "      <td>0.500081</td>\n",
              "      <td>1.0</td>\n",
              "      <td>1.00</td>\n",
              "      <td>1.0</td>\n",
              "      <td>2.00</td>\n",
              "      <td>2.0</td>\n",
              "    </tr>\n",
              "    <tr>\n",
              "      <th>연령대코드(5세단위)</th>\n",
              "      <td>1000.0</td>\n",
              "      <td>1.055700e+01</td>\n",
              "      <td>2.816502</td>\n",
              "      <td>5.0</td>\n",
              "      <td>9.00</td>\n",
              "      <td>11.0</td>\n",
              "      <td>12.00</td>\n",
              "      <td>18.0</td>\n",
              "    </tr>\n",
              "    <tr>\n",
              "      <th>시도코드</th>\n",
              "      <td>1000.0</td>\n",
              "      <td>3.315100e+01</td>\n",
              "      <td>12.813445</td>\n",
              "      <td>11.0</td>\n",
              "      <td>27.00</td>\n",
              "      <td>41.0</td>\n",
              "      <td>43.00</td>\n",
              "      <td>49.0</td>\n",
              "    </tr>\n",
              "    <tr>\n",
              "      <th>신장(5Cm단위)</th>\n",
              "      <td>1000.0</td>\n",
              "      <td>1.617000e+02</td>\n",
              "      <td>9.380725</td>\n",
              "      <td>140.0</td>\n",
              "      <td>155.00</td>\n",
              "      <td>160.0</td>\n",
              "      <td>170.00</td>\n",
              "      <td>185.0</td>\n",
              "    </tr>\n",
              "    <tr>\n",
              "      <th>체중(5Kg단위)</th>\n",
              "      <td>1000.0</td>\n",
              "      <td>6.278500e+01</td>\n",
              "      <td>12.668041</td>\n",
              "      <td>35.0</td>\n",
              "      <td>55.00</td>\n",
              "      <td>60.0</td>\n",
              "      <td>70.00</td>\n",
              "      <td>130.0</td>\n",
              "    </tr>\n",
              "    <tr>\n",
              "      <th>허리둘레</th>\n",
              "      <td>1000.0</td>\n",
              "      <td>8.103200e+01</td>\n",
              "      <td>9.602666</td>\n",
              "      <td>51.0</td>\n",
              "      <td>74.00</td>\n",
              "      <td>81.0</td>\n",
              "      <td>88.00</td>\n",
              "      <td>126.0</td>\n",
              "    </tr>\n",
              "    <tr>\n",
              "      <th>시력(좌)</th>\n",
              "      <td>999.0</td>\n",
              "      <td>9.800801e-01</td>\n",
              "      <td>0.663411</td>\n",
              "      <td>0.1</td>\n",
              "      <td>0.70</td>\n",
              "      <td>1.0</td>\n",
              "      <td>1.20</td>\n",
              "      <td>9.9</td>\n",
              "    </tr>\n",
              "    <tr>\n",
              "      <th>시력(우)</th>\n",
              "      <td>999.0</td>\n",
              "      <td>9.400400e-01</td>\n",
              "      <td>0.443206</td>\n",
              "      <td>0.1</td>\n",
              "      <td>0.70</td>\n",
              "      <td>0.9</td>\n",
              "      <td>1.20</td>\n",
              "      <td>9.9</td>\n",
              "    </tr>\n",
              "    <tr>\n",
              "      <th>청력(좌)</th>\n",
              "      <td>999.0</td>\n",
              "      <td>1.049049e+00</td>\n",
              "      <td>0.216079</td>\n",
              "      <td>1.0</td>\n",
              "      <td>1.00</td>\n",
              "      <td>1.0</td>\n",
              "      <td>1.00</td>\n",
              "      <td>2.0</td>\n",
              "    </tr>\n",
              "    <tr>\n",
              "      <th>청력(우)</th>\n",
              "      <td>999.0</td>\n",
              "      <td>1.032032e+00</td>\n",
              "      <td>0.176173</td>\n",
              "      <td>1.0</td>\n",
              "      <td>1.00</td>\n",
              "      <td>1.0</td>\n",
              "      <td>1.00</td>\n",
              "      <td>2.0</td>\n",
              "    </tr>\n",
              "    <tr>\n",
              "      <th>수축기혈압</th>\n",
              "      <td>1000.0</td>\n",
              "      <td>1.223810e+02</td>\n",
              "      <td>13.899894</td>\n",
              "      <td>88.0</td>\n",
              "      <td>113.00</td>\n",
              "      <td>120.0</td>\n",
              "      <td>130.00</td>\n",
              "      <td>180.0</td>\n",
              "    </tr>\n",
              "    <tr>\n",
              "      <th>이완기혈압</th>\n",
              "      <td>1000.0</td>\n",
              "      <td>7.604800e+01</td>\n",
              "      <td>9.798863</td>\n",
              "      <td>51.0</td>\n",
              "      <td>70.00</td>\n",
              "      <td>76.0</td>\n",
              "      <td>81.00</td>\n",
              "      <td>110.0</td>\n",
              "    </tr>\n",
              "    <tr>\n",
              "      <th>식전혈당(공복혈당)</th>\n",
              "      <td>1000.0</td>\n",
              "      <td>1.002490e+02</td>\n",
              "      <td>26.097089</td>\n",
              "      <td>56.0</td>\n",
              "      <td>88.00</td>\n",
              "      <td>96.0</td>\n",
              "      <td>105.00</td>\n",
              "      <td>466.0</td>\n",
              "    </tr>\n",
              "    <tr>\n",
              "      <th>총콜레스테롤</th>\n",
              "      <td>1000.0</td>\n",
              "      <td>1.957470e+02</td>\n",
              "      <td>37.317122</td>\n",
              "      <td>97.0</td>\n",
              "      <td>171.00</td>\n",
              "      <td>194.0</td>\n",
              "      <td>218.25</td>\n",
              "      <td>424.0</td>\n",
              "    </tr>\n",
              "    <tr>\n",
              "      <th>트리글리세라이드</th>\n",
              "      <td>1000.0</td>\n",
              "      <td>1.276060e+02</td>\n",
              "      <td>101.262159</td>\n",
              "      <td>26.0</td>\n",
              "      <td>72.00</td>\n",
              "      <td>105.0</td>\n",
              "      <td>151.00</td>\n",
              "      <td>1879.0</td>\n",
              "    </tr>\n",
              "    <tr>\n",
              "      <th>HDL콜레스테롤</th>\n",
              "      <td>1000.0</td>\n",
              "      <td>5.608600e+01</td>\n",
              "      <td>13.995731</td>\n",
              "      <td>22.0</td>\n",
              "      <td>46.00</td>\n",
              "      <td>55.0</td>\n",
              "      <td>65.00</td>\n",
              "      <td>112.0</td>\n",
              "    </tr>\n",
              "    <tr>\n",
              "      <th>LDL콜레스테롤</th>\n",
              "      <td>999.0</td>\n",
              "      <td>1.147127e+02</td>\n",
              "      <td>33.743173</td>\n",
              "      <td>1.0</td>\n",
              "      <td>91.00</td>\n",
              "      <td>113.0</td>\n",
              "      <td>137.00</td>\n",
              "      <td>234.0</td>\n",
              "    </tr>\n",
              "    <tr>\n",
              "      <th>혈색소</th>\n",
              "      <td>1000.0</td>\n",
              "      <td>1.412210e+01</td>\n",
              "      <td>1.675365</td>\n",
              "      <td>5.5</td>\n",
              "      <td>13.00</td>\n",
              "      <td>14.0</td>\n",
              "      <td>15.40</td>\n",
              "      <td>18.8</td>\n",
              "    </tr>\n",
              "    <tr>\n",
              "      <th>요단백</th>\n",
              "      <td>992.0</td>\n",
              "      <td>1.074597e+00</td>\n",
              "      <td>0.351557</td>\n",
              "      <td>1.0</td>\n",
              "      <td>1.00</td>\n",
              "      <td>1.0</td>\n",
              "      <td>1.00</td>\n",
              "      <td>4.0</td>\n",
              "    </tr>\n",
              "    <tr>\n",
              "      <th>혈청크레아티닌</th>\n",
              "      <td>1000.0</td>\n",
              "      <td>8.707000e-01</td>\n",
              "      <td>0.597435</td>\n",
              "      <td>0.1</td>\n",
              "      <td>0.70</td>\n",
              "      <td>0.8</td>\n",
              "      <td>1.00</td>\n",
              "      <td>15.9</td>\n",
              "    </tr>\n",
              "    <tr>\n",
              "      <th>(혈청지오티)AST</th>\n",
              "      <td>1000.0</td>\n",
              "      <td>2.512600e+01</td>\n",
              "      <td>12.701159</td>\n",
              "      <td>5.0</td>\n",
              "      <td>18.00</td>\n",
              "      <td>22.0</td>\n",
              "      <td>28.00</td>\n",
              "      <td>187.0</td>\n",
              "    </tr>\n",
              "    <tr>\n",
              "      <th>(혈청지오티)ALT</th>\n",
              "      <td>1000.0</td>\n",
              "      <td>2.559200e+01</td>\n",
              "      <td>21.694981</td>\n",
              "      <td>5.0</td>\n",
              "      <td>14.00</td>\n",
              "      <td>20.0</td>\n",
              "      <td>29.00</td>\n",
              "      <td>350.0</td>\n",
              "    </tr>\n",
              "    <tr>\n",
              "      <th>감마지티피</th>\n",
              "      <td>1000.0</td>\n",
              "      <td>3.693300e+01</td>\n",
              "      <td>55.283404</td>\n",
              "      <td>6.0</td>\n",
              "      <td>15.00</td>\n",
              "      <td>22.0</td>\n",
              "      <td>38.25</td>\n",
              "      <td>797.0</td>\n",
              "    </tr>\n",
              "    <tr>\n",
              "      <th>흡연상태</th>\n",
              "      <td>1000.0</td>\n",
              "      <td>1.603000e+00</td>\n",
              "      <td>0.813666</td>\n",
              "      <td>1.0</td>\n",
              "      <td>1.00</td>\n",
              "      <td>1.0</td>\n",
              "      <td>2.00</td>\n",
              "      <td>3.0</td>\n",
              "    </tr>\n",
              "    <tr>\n",
              "      <th>음주여부</th>\n",
              "      <td>0.0</td>\n",
              "      <td>NaN</td>\n",
              "      <td>NaN</td>\n",
              "      <td>NaN</td>\n",
              "      <td>NaN</td>\n",
              "      <td>NaN</td>\n",
              "      <td>NaN</td>\n",
              "      <td>NaN</td>\n",
              "    </tr>\n",
              "    <tr>\n",
              "      <th>구강검진 수검여부</th>\n",
              "      <td>1000.0</td>\n",
              "      <td>3.890000e-01</td>\n",
              "      <td>0.487767</td>\n",
              "      <td>0.0</td>\n",
              "      <td>0.00</td>\n",
              "      <td>0.0</td>\n",
              "      <td>1.00</td>\n",
              "      <td>1.0</td>\n",
              "    </tr>\n",
              "    <tr>\n",
              "      <th>치아우식증유무</th>\n",
              "      <td>0.0</td>\n",
              "      <td>NaN</td>\n",
              "      <td>NaN</td>\n",
              "      <td>NaN</td>\n",
              "      <td>NaN</td>\n",
              "      <td>NaN</td>\n",
              "      <td>NaN</td>\n",
              "      <td>NaN</td>\n",
              "    </tr>\n",
              "    <tr>\n",
              "      <th>결손치유무</th>\n",
              "      <td>0.0</td>\n",
              "      <td>NaN</td>\n",
              "      <td>NaN</td>\n",
              "      <td>NaN</td>\n",
              "      <td>NaN</td>\n",
              "      <td>NaN</td>\n",
              "      <td>NaN</td>\n",
              "      <td>NaN</td>\n",
              "    </tr>\n",
              "    <tr>\n",
              "      <th>치아마모증유무</th>\n",
              "      <td>0.0</td>\n",
              "      <td>NaN</td>\n",
              "      <td>NaN</td>\n",
              "      <td>NaN</td>\n",
              "      <td>NaN</td>\n",
              "      <td>NaN</td>\n",
              "      <td>NaN</td>\n",
              "      <td>NaN</td>\n",
              "    </tr>\n",
              "    <tr>\n",
              "      <th>제3대구치(사랑니)이상</th>\n",
              "      <td>0.0</td>\n",
              "      <td>NaN</td>\n",
              "      <td>NaN</td>\n",
              "      <td>NaN</td>\n",
              "      <td>NaN</td>\n",
              "      <td>NaN</td>\n",
              "      <td>NaN</td>\n",
              "      <td>NaN</td>\n",
              "    </tr>\n",
              "    <tr>\n",
              "      <th>치석</th>\n",
              "      <td>389.0</td>\n",
              "      <td>5.964010e-01</td>\n",
              "      <td>0.582465</td>\n",
              "      <td>0.0</td>\n",
              "      <td>0.00</td>\n",
              "      <td>1.0</td>\n",
              "      <td>1.00</td>\n",
              "      <td>2.0</td>\n",
              "    </tr>\n",
              "    <tr>\n",
              "      <th>데이터공개일자</th>\n",
              "      <td>1000.0</td>\n",
              "      <td>2.017122e+07</td>\n",
              "      <td>0.000000</td>\n",
              "      <td>20171219.0</td>\n",
              "      <td>20171219.00</td>\n",
              "      <td>20171219.0</td>\n",
              "      <td>20171219.00</td>\n",
              "      <td>20171219.0</td>\n",
              "    </tr>\n",
              "  </tbody>\n",
              "</table>\n",
              "</div>"
            ],
            "text/plain": [
              "               count          mean  ...          75%         max\n",
              "기준년도          1000.0  2.016000e+03  ...      2016.00      2016.0\n",
              "가입자일련번호       1000.0  5.097498e+05  ...    765463.00    999514.0\n",
              "성별코드          1000.0  1.487000e+00  ...         2.00         2.0\n",
              "연령대코드(5세단위)   1000.0  1.055700e+01  ...        12.00        18.0\n",
              "시도코드          1000.0  3.315100e+01  ...        43.00        49.0\n",
              "신장(5Cm단위)     1000.0  1.617000e+02  ...       170.00       185.0\n",
              "체중(5Kg단위)     1000.0  6.278500e+01  ...        70.00       130.0\n",
              "허리둘레          1000.0  8.103200e+01  ...        88.00       126.0\n",
              "시력(좌)          999.0  9.800801e-01  ...         1.20         9.9\n",
              "시력(우)          999.0  9.400400e-01  ...         1.20         9.9\n",
              "청력(좌)          999.0  1.049049e+00  ...         1.00         2.0\n",
              "청력(우)          999.0  1.032032e+00  ...         1.00         2.0\n",
              "수축기혈압         1000.0  1.223810e+02  ...       130.00       180.0\n",
              "이완기혈압         1000.0  7.604800e+01  ...        81.00       110.0\n",
              "식전혈당(공복혈당)    1000.0  1.002490e+02  ...       105.00       466.0\n",
              "총콜레스테롤        1000.0  1.957470e+02  ...       218.25       424.0\n",
              "트리글리세라이드      1000.0  1.276060e+02  ...       151.00      1879.0\n",
              "HDL콜레스테롤      1000.0  5.608600e+01  ...        65.00       112.0\n",
              "LDL콜레스테롤       999.0  1.147127e+02  ...       137.00       234.0\n",
              "혈색소           1000.0  1.412210e+01  ...        15.40        18.8\n",
              "요단백            992.0  1.074597e+00  ...         1.00         4.0\n",
              "혈청크레아티닌       1000.0  8.707000e-01  ...         1.00        15.9\n",
              "(혈청지오티)AST    1000.0  2.512600e+01  ...        28.00       187.0\n",
              "(혈청지오티)ALT    1000.0  2.559200e+01  ...        29.00       350.0\n",
              "감마지티피         1000.0  3.693300e+01  ...        38.25       797.0\n",
              "흡연상태          1000.0  1.603000e+00  ...         2.00         3.0\n",
              "음주여부             0.0           NaN  ...          NaN         NaN\n",
              "구강검진 수검여부     1000.0  3.890000e-01  ...         1.00         1.0\n",
              "치아우식증유무          0.0           NaN  ...          NaN         NaN\n",
              "결손치유무            0.0           NaN  ...          NaN         NaN\n",
              "치아마모증유무          0.0           NaN  ...          NaN         NaN\n",
              "제3대구치(사랑니)이상     0.0           NaN  ...          NaN         NaN\n",
              "치석             389.0  5.964010e-01  ...         1.00         2.0\n",
              "데이터공개일자       1000.0  2.017122e+07  ...  20171219.00  20171219.0\n",
              "\n",
              "[34 rows x 8 columns]"
            ]
          },
          "metadata": {},
          "execution_count": 16
        }
      ]
    },
    {
      "cell_type": "markdown",
      "source": [
        "흡연상태, 구강검진, 치석 등\n",
        "- 흡연상태는 1, 2, 3 3가지의 값을 갖고\n",
        "-구강건진 수검여부도 0, 1 (받았냐 안받았냐)\n",
        "- 치석도 0, 1 (있냐 없냐?)\n",
        "범주형이라고 볼 수 있다\n"
      ],
      "metadata": {
        "id": "ooph5AFCzDF-"
      }
    },
    {
      "cell_type": "markdown",
      "source": [
        "### 범주형\n",
        "- 샘플자료에서는 비수치적인 자료는 없다\n",
        "  - 수치적인 자료들(이산형) 중에서 범주형에 해당하는 변수를 확인해보자\n",
        "    - 성별을 1, 2 (남녀) 로 표현하고 있음\n",
        "    - 흡연상태, 구강검진, 치석 등도 범주형이라고도 볼 수 있다\n",
        "      - 흡연상태는 1, 2, 3 3가지의 값을 갖고\n",
        "      -구강건진 수검여부도 0, 1 (받았냐 안받았냐)\n",
        "      - 치석도 0, 1 (있냐 없냐?)(근데 결측치가 되게 많네.. 이건 그냥 안 보겠다고 하심)\n",
        "\n"
      ],
      "metadata": {
        "id": "InKf1uWHzWO3"
      }
    },
    {
      "cell_type": "code",
      "source": [
        "# unique를 사용하면 중복된 자료를 제외하고 남은 값을 보여줌\n",
        "\n",
        "rawData['흡연상태'].unique()\n",
        "# 3가지의 카테고리로 나눠져있다라고 보면 됨"
      ],
      "metadata": {
        "colab": {
          "base_uri": "https://localhost:8080/"
        },
        "id": "zBvbYHt9x8YQ",
        "outputId": "6eb0f353-9da8-4df9-83ab-bd0ba3176aad"
      },
      "execution_count": null,
      "outputs": [
        {
          "output_type": "execute_result",
          "data": {
            "text/plain": [
              "array([3., 1., 2.])"
            ]
          },
          "metadata": {},
          "execution_count": 17
        }
      ]
    },
    {
      "cell_type": "code",
      "source": [
        "rawData['구강검진 수검여부'].unique()\n",
        "# 보통 1을 참으로 둠. 구강검진을 받았나 안받았나로 나눠짐"
      ],
      "metadata": {
        "colab": {
          "base_uri": "https://localhost:8080/"
        },
        "id": "VRuQcEZ80Dy_",
        "outputId": "9276e2e8-ad1f-4acd-b00e-71d6e025b371"
      },
      "execution_count": null,
      "outputs": [
        {
          "output_type": "execute_result",
          "data": {
            "text/plain": [
              "array([1, 0])"
            ]
          },
          "metadata": {},
          "execution_count": 18
        }
      ]
    },
    {
      "cell_type": "code",
      "source": [
        "rawData['성별코드'].unique()\n",
        "# 수치적인 자료라 1이 남자인지 여자인지는 몰라도 나눠져 있다는 건 알 수 있다"
      ],
      "metadata": {
        "colab": {
          "base_uri": "https://localhost:8080/"
        },
        "id": "glD9aaa10Obz",
        "outputId": "b16f33f4-acbd-4dbe-dba9-afc0b7aeb0f1"
      },
      "execution_count": null,
      "outputs": [
        {
          "output_type": "execute_result",
          "data": {
            "text/plain": [
              "array([1, 2])"
            ]
          },
          "metadata": {},
          "execution_count": 20
        }
      ]
    },
    {
      "cell_type": "code",
      "source": [
        "sns.countplot(data=rawData, x='흡연상태')"
      ],
      "metadata": {
        "colab": {
          "base_uri": "https://localhost:8080/",
          "height": 296
        },
        "id": "GmOVPEDH0fpr",
        "outputId": "24497ffa-479b-4773-db7e-2fc7c017650a"
      },
      "execution_count": null,
      "outputs": [
        {
          "output_type": "execute_result",
          "data": {
            "text/plain": [
              "<matplotlib.axes._subplots.AxesSubplot at 0x7f7925422a50>"
            ]
          },
          "metadata": {},
          "execution_count": 24
        },
        {
          "output_type": "display_data",
          "data": {
            "image/png": "[encoded data removed]",
            "text/plain": [
              "<Figure size 432x288 with 1 Axes>"
            ]
          },
          "metadata": {
            "needs_background": "light"
          }
        }
      ]
    },
    {
      "cell_type": "code",
      "source": [
        "sns.barplot(data=rawData, x='흡연상태')"
      ],
      "metadata": {
        "colab": {
          "base_uri": "https://localhost:8080/",
          "height": 296
        },
        "id": "RM-_RxQc0t2o",
        "outputId": "18368f61-60b3-4f3d-d794-a992dd93c400"
      },
      "execution_count": null,
      "outputs": [
        {
          "output_type": "execute_result",
          "data": {
            "text/plain": [
              "<matplotlib.axes._subplots.AxesSubplot at 0x7f792549bf10>"
            ]
          },
          "metadata": {},
          "execution_count": 25
        },
        {
          "output_type": "display_data",
          "data": {
            "image/png": "[encoded data removed]",
            "text/plain": [
              "<Figure size 432x288 with 1 Axes>"
            ]
          },
          "metadata": {
            "needs_background": "light"
          }
        }
      ]
    },
    {
      "cell_type": "markdown",
      "source": [
        "### 이산형 자료\n",
        "- 셀 수 있는 정수형 자료\n",
        "- coutplot으로 각각의 빈도를 확인해 볼 수 있다\n"
      ],
      "metadata": {
        "id": "YaIsu4QB5EYB"
      }
    },
    {
      "cell_type": "code",
      "source": [
        "\n",
        "rawData['연령대코드(5세단위)'].unique()"
      ],
      "metadata": {
        "colab": {
          "base_uri": "https://localhost:8080/"
        },
        "id": "eDDNOX_W1GOg",
        "outputId": "4741e2da-d0ea-42c4-d773-805995445a1a"
      },
      "execution_count": null,
      "outputs": [
        {
          "output_type": "execute_result",
          "data": {
            "text/plain": [
              "array([ 8, 10, 11,  6,  9, 14,  7, 15, 13,  5, 12, 16, 17, 18])"
            ]
          },
          "metadata": {},
          "execution_count": 26
        }
      ]
    },
    {
      "cell_type": "code",
      "source": [
        "rawData['시도코드'].unique()"
      ],
      "metadata": {
        "colab": {
          "base_uri": "https://localhost:8080/"
        },
        "id": "oaj6Zo4l4-rm",
        "outputId": "cdaaddc9-705d-4072-f34f-f44629b90728"
      },
      "execution_count": null,
      "outputs": [
        {
          "output_type": "execute_result",
          "data": {
            "text/plain": [
              "array([41, 11, 28, 42, 26, 29, 45, 43, 47, 48, 30, 27, 31, 44, 46, 36, 49])"
            ]
          },
          "metadata": {},
          "execution_count": 28
        }
      ]
    },
    {
      "cell_type": "code",
      "source": [
        "sns.countplot(data=rawData, x='연령대코드(5세단위)')"
      ],
      "metadata": {
        "colab": {
          "base_uri": "https://localhost:8080/",
          "height": 296
        },
        "id": "qr56QqYh5CgG",
        "outputId": "c27835c5-af48-46eb-d75e-5ce0ee3dee4a"
      },
      "execution_count": null,
      "outputs": [
        {
          "output_type": "execute_result",
          "data": {
            "text/plain": [
              "<matplotlib.axes._subplots.AxesSubplot at 0x7f7925315d50>"
            ]
          },
          "metadata": {},
          "execution_count": 30
        },
        {
          "output_type": "display_data",
          "data": {
            "image/png": "[encoded data removed]",
            "text/plain": [
              "<Figure size 432x288 with 1 Axes>"
            ]
          },
          "metadata": {
            "needs_background": "light"
          }
        }
      ]
    },
    {
      "cell_type": "code",
      "source": [
        "sns. countplot(data=rawData, x='시도코드')"
      ],
      "metadata": {
        "colab": {
          "base_uri": "https://localhost:8080/",
          "height": 296
        },
        "id": "QuBHl8U05Xk5",
        "outputId": "56a56b04-bc5c-4d4d-a966-ba72a09d6349"
      },
      "execution_count": null,
      "outputs": [
        {
          "output_type": "execute_result",
          "data": {
            "text/plain": [
              "<matplotlib.axes._subplots.AxesSubplot at 0x7f792511e710>"
            ]
          },
          "metadata": {},
          "execution_count": 33
        },
        {
          "output_type": "display_data",
          "data": {
            "image/png": "[encoded data removed]",
            "text/plain": [
              "<Figure size 432x288 with 1 Axes>"
            ]
          },
          "metadata": {
            "needs_background": "light"
          }
        }
      ]
    },
    {
      "cell_type": "markdown",
      "source": [
        "### 연속형 자료\n",
        "- 셀 수 없는 자료\n",
        "- 샘플에서는 정확히 연속형자료로 볼 수는 없다\n"
      ],
      "metadata": {
        "id": "qzlS0iED59ra"
      }
    },
    {
      "cell_type": "code",
      "source": [
        "rawData.columns"
      ],
      "metadata": {
        "colab": {
          "base_uri": "https://localhost:8080/"
        },
        "id": "6Oid_ZZs5drI",
        "outputId": "c9ea2866-2aeb-46e3-8749-f7572ebbf0a2"
      },
      "execution_count": null,
      "outputs": [
        {
          "output_type": "execute_result",
          "data": {
            "text/plain": [
              "Index(['기준년도', '가입자일련번호', '성별코드', '연령대코드(5세단위)', '시도코드', '신장(5Cm단위)',\n",
              "       '체중(5Kg단위)', '허리둘레', '시력(좌)', '시력(우)', '청력(좌)', '청력(우)', '수축기혈압',\n",
              "       '이완기혈압', '식전혈당(공복혈당)', '총콜레스테롤', '트리글리세라이드', 'HDL콜레스테롤', 'LDL콜레스테롤',\n",
              "       '혈색소', '요단백', '혈청크레아티닌', '(혈청지오티)AST', '(혈청지오티)ALT', '감마지티피', '흡연상태',\n",
              "       '음주여부', '구강검진 수검여부', '치아우식증유무', '결손치유무', '치아마모증유무', '제3대구치(사랑니)이상',\n",
              "       '치석', '데이터공개일자'],\n",
              "      dtype='object')"
            ]
          },
          "metadata": {},
          "execution_count": 35
        }
      ]
    },
    {
      "cell_type": "code",
      "source": [
        "rawData['총콜레스테롤'].unique()\n",
        "# 이자료에서는 셀 수 있겠지만\n",
        "# 원랜 자료 양이 셀 수 없을 정도로 많은 경우에는 셀 수 없다"
      ],
      "metadata": {
        "colab": {
          "base_uri": "https://localhost:8080/"
        },
        "id": "nGARQ2jV6g_0",
        "outputId": "68aa133a-8efc-4da5-c110-d694ac897be3"
      },
      "execution_count": null,
      "outputs": [
        {
          "output_type": "execute_result",
          "data": {
            "text/plain": [
              "array([194., 143., 203., 154., 239., 209., 193., 229., 166., 212., 206.,\n",
              "       170., 207., 276., 173., 176., 218., 153., 140., 254., 125., 223.,\n",
              "       200., 172., 294., 234., 146., 225., 168., 186., 163., 227., 120.,\n",
              "       175., 202., 211., 187., 162., 208., 185., 111., 189., 221., 270.,\n",
              "       161., 199., 195., 182., 240., 264., 157., 201., 214., 244., 222.,\n",
              "       192., 259., 238., 245., 178., 147., 190., 136., 171., 181., 133.,\n",
              "       188., 160., 265., 110., 177., 204., 165., 231., 249., 138., 228.,\n",
              "       256., 242., 151., 180., 250., 152., 141., 145., 253., 215., 213.,\n",
              "       306., 196., 205., 164., 169., 210., 261., 248., 241., 183., 219.,\n",
              "       262., 216., 260., 255., 174., 304., 109., 217., 232., 279., 124.,\n",
              "       184., 191., 150., 220., 103., 247., 246., 277., 197., 149., 275.,\n",
              "       159., 324., 101., 179., 252., 267., 310., 243., 278., 235., 230.,\n",
              "       132., 271., 167., 148., 251., 158., 226., 142., 236., 198., 130.,\n",
              "       119., 135., 156., 233., 127., 144., 126., 237., 139., 137., 128.,\n",
              "       274., 272., 287., 134., 337., 118., 257., 122., 333., 273., 305.,\n",
              "       301., 323., 224., 117.,  97., 424., 284., 114.])"
            ]
          },
          "metadata": {},
          "execution_count": 38
        }
      ]
    },
    {
      "cell_type": "code",
      "source": [
        "# 보통 자료가 셀 수 없을 정도로 많은 경우에는 히스토그램으로 봄\n",
        "sns.histplot(data=rawData, x='총콜레스테롤')"
      ],
      "metadata": {
        "colab": {
          "base_uri": "https://localhost:8080/",
          "height": 296
        },
        "id": "S_xcE_bI6pWY",
        "outputId": "8b0db31a-7cbb-4cff-9c50-a25261f362a1"
      },
      "execution_count": null,
      "outputs": [
        {
          "output_type": "execute_result",
          "data": {
            "text/plain": [
              "<matplotlib.axes._subplots.AxesSubplot at 0x7f792504ee90>"
            ]
          },
          "metadata": {},
          "execution_count": 40
        },
        {
          "output_type": "display_data",
          "data": {
            "image/png": "[encoded data removed]",
            "text/plain": [
              "<Figure size 432x288 with 1 Axes>"
            ]
          },
          "metadata": {
            "needs_background": "light"
          }
        }
      ]
    },
    {
      "cell_type": "code",
      "source": [
        "sns.histplot(data=rawData, x='트리글리세라이드')\n",
        "# 최소치와 최대치의 차이가 엄청 큼\n",
        "# 'bins= '를 통해 구간을 정해서 쪼갤 수 있음\n",
        "#sns.histplot(data=rawData, x='트리글리세라이드', nins=30)"
      ],
      "metadata": {
        "colab": {
          "base_uri": "https://localhost:8080/",
          "height": 296
        },
        "id": "aN9FjMvw65Fr",
        "outputId": "62d0e4fa-29ba-4ca0-a072-762d6c10a5fd"
      },
      "execution_count": null,
      "outputs": [
        {
          "output_type": "execute_result",
          "data": {
            "text/plain": [
              "<matplotlib.axes._subplots.AxesSubplot at 0x7f7923d1c650>"
            ]
          },
          "metadata": {},
          "execution_count": 41
        },
        {
          "output_type": "display_data",
          "data": {
            "image/png": "[encoded data removed]",
            "text/plain": [
              "<Figure size 432x288 with 1 Axes>"
            ]
          },
          "metadata": {
            "needs_background": "light"
          }
        }
      ]
    },
    {
      "cell_type": "code",
      "source": [
        "# 그래서 'bins= '를 통해 구간을 정해서 쪼갤 수 있음\n",
        "sns.histplot(data=rawData, x='트리글리세라이드', bins=50)\n",
        "# 혼자 1800정도인 사람이 있네\n",
        "# 이 같이 너무 큰 경우 아웃라이어로 제거해보면 보기 편함(?)"
      ],
      "metadata": {
        "colab": {
          "base_uri": "https://localhost:8080/",
          "height": 296
        },
        "id": "T8h7-Dco7MWn",
        "outputId": "3912a469-71b8-4c11-ec9f-73cfae5761ac"
      },
      "execution_count": null,
      "outputs": [
        {
          "output_type": "execute_result",
          "data": {
            "text/plain": [
              "<matplotlib.axes._subplots.AxesSubplot at 0x7f79237fb990>"
            ]
          },
          "metadata": {},
          "execution_count": 49
        },
        {
          "output_type": "display_data",
          "data": {
            "image/png": "[encoded data removed]",
            "text/plain": [
              "<Figure size 432x288 with 1 Axes>"
            ]
          },
          "metadata": {
            "needs_background": "light"
          }
        }
      ]
    },
    {
      "cell_type": "code",
      "source": [
        "rawData[ rawData['트리글리세라이드'] > 1800 ]"
      ],
      "metadata": {
        "colab": {
          "base_uri": "https://localhost:8080/",
          "height": 240
        },
        "id": "oThNIx2Y7i2R",
        "outputId": "a2088341-3d49-46e0-d51d-46eb5962664e"
      },
      "execution_count": null,
      "outputs": [
        {
          "output_type": "execute_result",
          "data": {
            "text/html": [
              "<div>\n",
              "<style scoped>\n",
              "    .dataframe tbody tr th:only-of-type {\n",
              "        vertical-align: middle;\n",
              "    }\n",
              "\n",
              "    .dataframe tbody tr th {\n",
              "        vertical-align: top;\n",
              "    }\n",
              "\n",
              "    .dataframe thead th {\n",
              "        text-align: right;\n",
              "    }\n",
              "</style>\n",
              "<table border=\"1\" class=\"dataframe\">\n",
              "  <thead>\n",
              "    <tr style=\"text-align: right;\">\n",
              "      <th></th>\n",
              "      <th>기준년도</th>\n",
              "      <th>가입자일련번호</th>\n",
              "      <th>성별코드</th>\n",
              "      <th>연령대코드(5세단위)</th>\n",
              "      <th>시도코드</th>\n",
              "      <th>신장(5Cm단위)</th>\n",
              "      <th>체중(5Kg단위)</th>\n",
              "      <th>허리둘레</th>\n",
              "      <th>시력(좌)</th>\n",
              "      <th>시력(우)</th>\n",
              "      <th>청력(좌)</th>\n",
              "      <th>청력(우)</th>\n",
              "      <th>수축기혈압</th>\n",
              "      <th>이완기혈압</th>\n",
              "      <th>식전혈당(공복혈당)</th>\n",
              "      <th>총콜레스테롤</th>\n",
              "      <th>트리글리세라이드</th>\n",
              "      <th>HDL콜레스테롤</th>\n",
              "      <th>LDL콜레스테롤</th>\n",
              "      <th>혈색소</th>\n",
              "      <th>요단백</th>\n",
              "      <th>혈청크레아티닌</th>\n",
              "      <th>(혈청지오티)AST</th>\n",
              "      <th>(혈청지오티)ALT</th>\n",
              "      <th>감마지티피</th>\n",
              "      <th>흡연상태</th>\n",
              "      <th>음주여부</th>\n",
              "      <th>구강검진 수검여부</th>\n",
              "      <th>치아우식증유무</th>\n",
              "      <th>결손치유무</th>\n",
              "      <th>치아마모증유무</th>\n",
              "      <th>제3대구치(사랑니)이상</th>\n",
              "      <th>치석</th>\n",
              "      <th>데이터공개일자</th>\n",
              "    </tr>\n",
              "  </thead>\n",
              "  <tbody>\n",
              "    <tr>\n",
              "      <th>942</th>\n",
              "      <td>2016</td>\n",
              "      <td>819247</td>\n",
              "      <td>1</td>\n",
              "      <td>12</td>\n",
              "      <td>11</td>\n",
              "      <td>170.0</td>\n",
              "      <td>70.0</td>\n",
              "      <td>89.0</td>\n",
              "      <td>0.8</td>\n",
              "      <td>0.8</td>\n",
              "      <td>1.0</td>\n",
              "      <td>1.0</td>\n",
              "      <td>122.0</td>\n",
              "      <td>93.0</td>\n",
              "      <td>118.0</td>\n",
              "      <td>424.0</td>\n",
              "      <td>1879.0</td>\n",
              "      <td>35.0</td>\n",
              "      <td>65.0</td>\n",
              "      <td>16.4</td>\n",
              "      <td>1.0</td>\n",
              "      <td>0.9</td>\n",
              "      <td>53.0</td>\n",
              "      <td>93.0</td>\n",
              "      <td>99.0</td>\n",
              "      <td>1.0</td>\n",
              "      <td>NaN</td>\n",
              "      <td>1</td>\n",
              "      <td>NaN</td>\n",
              "      <td>NaN</td>\n",
              "      <td>NaN</td>\n",
              "      <td>NaN</td>\n",
              "      <td>0.0</td>\n",
              "      <td>20171219</td>\n",
              "    </tr>\n",
              "  </tbody>\n",
              "</table>\n",
              "</div>"
            ],
            "text/plain": [
              "     기준년도  가입자일련번호  성별코드  연령대코드(5세단위)  ...  치아마모증유무  제3대구치(사랑니)이상   치석   데이터공개일자\n",
              "942  2016   819247     1           12  ...      NaN           NaN  0.0  20171219\n",
              "\n",
              "[1 rows x 34 columns]"
            ]
          },
          "metadata": {},
          "execution_count": 45
        }
      ]
    },
    {
      "cell_type": "code",
      "source": [
        "#위 처럼 인덱스 942번을 아웃라이어 처리함\n",
        "tmp = rawData.drop(index=942)"
      ],
      "metadata": {
        "id": "L-vWo2_B76ZN"
      },
      "execution_count": null,
      "outputs": []
    },
    {
      "cell_type": "code",
      "source": [
        "sns.histplot(data=tmp, x='트리글리세라이드')"
      ],
      "metadata": {
        "colab": {
          "base_uri": "https://localhost:8080/",
          "height": 296
        },
        "id": "EfVLpHOK7vSS",
        "outputId": "77e920ad-a0cf-4f29-8d5d-6837ee2c5399"
      },
      "execution_count": null,
      "outputs": [
        {
          "output_type": "execute_result",
          "data": {
            "text/plain": [
              "<matplotlib.axes._subplots.AxesSubplot at 0x7f79235a4390>"
            ]
          },
          "metadata": {},
          "execution_count": 52
        },
        {
          "output_type": "display_data",
          "data": {
            "image/png": "[encoded data removed]",
            "text/plain": [
              "<Figure size 432x288 with 1 Axes>"
            ]
          },
          "metadata": {
            "needs_background": "light"
          }
        }
      ]
    },
    {
      "cell_type": "code",
      "source": [
        "sns.displot(data=rawData, x='총콜레스테롤')"
      ],
      "metadata": {
        "colab": {
          "base_uri": "https://localhost:8080/",
          "height": 386
        },
        "id": "eNXtH2Qc8HWI",
        "outputId": "b639302e-690e-47b3-a8c6-85cb04bfcffa"
      },
      "execution_count": null,
      "outputs": [
        {
          "output_type": "execute_result",
          "data": {
            "text/plain": [
              "<seaborn.axisgrid.FacetGrid at 0x7f79232e7650>"
            ]
          },
          "metadata": {},
          "execution_count": 53
        },
        {
          "output_type": "display_data",
          "data": {
            "image/png": "[encoded data removed]",
            "text/plain": [
              "<Figure size 360x360 with 1 Axes>"
            ]
          },
          "metadata": {
            "needs_background": "light"
          }
        }
      ]
    },
    {
      "cell_type": "code",
      "source": [
        "# 확률밀도함수?.....몰라 뒤에서 다시 알려주신대\n",
        "sns.displot(data=rawData, x='총콜레스테롤', kde=True)\n"
      ],
      "metadata": {
        "colab": {
          "base_uri": "https://localhost:8080/",
          "height": 386
        },
        "id": "7cLLxXz398rR",
        "outputId": "0df6bfff-a584-4736-83da-a2cfd1c1553d"
      },
      "execution_count": null,
      "outputs": [
        {
          "output_type": "execute_result",
          "data": {
            "text/plain": [
              "<seaborn.axisgrid.FacetGrid at 0x7f7925207ed0>"
            ]
          },
          "metadata": {},
          "execution_count": 54
        },
        {
          "output_type": "display_data",
          "data": {
            "image/png": "[encoded data removed]",
            "text/plain": [
              "<Figure size 360x360 with 1 Axes>"
            ]
          },
          "metadata": {
            "needs_background": "light"
          }
        }
      ]
    },
    {
      "cell_type": "markdown",
      "source": [
        "### 2차원 시각화\n",
        "- 두 자료간의 관계를 확인하고 싶은 경우\n",
        "  - 타겟 변수와 입력변수들 간의 관계(인과성)\n",
        "    - 타겟 결과가 되는 변수 \n",
        "    - 입력 원인이 되는 변수 독립변수?\n",
        "  - 입력변수와 입력변수들간의 관계(상관성)\n",
        "    - 입력변수들은 서로 독립적임을 가정\n",
        "\n",
        "- 두 변수 모두 연속형인 경우\n",
        "  - scatterlopt(산포도?), loneplot, joinplot, rugplot...\n",
        "- 연속형 변수와 범주형 변수인 경우\n",
        "  - barplot, boxplot\n",
        "- 두 변수 모두 범주형인 경우\n",
        "  - counplot\n"
      ],
      "metadata": {
        "id": "jt8WLTwA-hzN"
      }
    },
    {
      "cell_type": "markdown",
      "source": [
        "### 두 변수 모두 연속형인 경우\n",
        "- 콜레스테롤 ,트리글리세라이드 관계를 봐보자"
      ],
      "metadata": {
        "id": "UwIskENH_RnN"
      }
    },
    {
      "cell_type": "code",
      "source": [
        "#산포도\n",
        "sns.scatterplot(data=rawData, x='총콜레스테롤', y= '트리글리세라이드')\n",
        "# 여기도 아까의 그 아웃라이어가 또 보임\n",
        "# 근데 1시 방향에 있는 거 보니 드리글리세라이드 뿐만 아니라 총 콜레스테롤도 높네\n",
        "# 어느정도의 상관성이 보임.\n",
        "# => 트리~가 높을 술록 총콜레스테롤도 조금씩 높아 보임?"
      ],
      "metadata": {
        "colab": {
          "base_uri": "https://localhost:8080/",
          "height": 296
        },
        "id": "g1gP8ELM-Dnd",
        "outputId": "cf59ba6e-71f5-44d6-8339-4b443ce608d6"
      },
      "execution_count": null,
      "outputs": [
        {
          "output_type": "execute_result",
          "data": {
            "text/plain": [
              "<matplotlib.axes._subplots.AxesSubplot at 0x7f791a95b790>"
            ]
          },
          "metadata": {},
          "execution_count": 56
        },
        {
          "output_type": "display_data",
          "data": {
            "image/png": "[encoded data removed]",
            "text/plain": [
              "<Figure size 432x288 with 1 Axes>"
            ]
          },
          "metadata": {
            "needs_background": "light"
          }
        }
      ]
    },
    {
      "cell_type": "code",
      "source": [
        "# 상관계수를 볼 수 있음\n",
        "rawData[['총콜레스테롤', '트리글리세라이드']].corr()\n",
        "# 상관계수가 1에 가까울 수록 두 변수의 상관관계가 높다고 볼 수 있다\n",
        "# 0.3 정도로 높진 않네?.. 거의 없다고 봐도 무방할 듯한데 위에서는 왜 있어보였..?"
      ],
      "metadata": {
        "colab": {
          "base_uri": "https://localhost:8080/",
          "height": 112
        },
        "id": "B65_CGIx_d96",
        "outputId": "6c436a9a-552d-4787-d187-4476a3dca581"
      },
      "execution_count": null,
      "outputs": [
        {
          "output_type": "execute_result",
          "data": {
            "text/html": [
              "<div>\n",
              "<style scoped>\n",
              "    .dataframe tbody tr th:only-of-type {\n",
              "        vertical-align: middle;\n",
              "    }\n",
              "\n",
              "    .dataframe tbody tr th {\n",
              "        vertical-align: top;\n",
              "    }\n",
              "\n",
              "    .dataframe thead th {\n",
              "        text-align: right;\n",
              "    }\n",
              "</style>\n",
              "<table border=\"1\" class=\"dataframe\">\n",
              "  <thead>\n",
              "    <tr style=\"text-align: right;\">\n",
              "      <th></th>\n",
              "      <th>총콜레스테롤</th>\n",
              "      <th>트리글리세라이드</th>\n",
              "    </tr>\n",
              "  </thead>\n",
              "  <tbody>\n",
              "    <tr>\n",
              "      <th>총콜레스테롤</th>\n",
              "      <td>1.000000</td>\n",
              "      <td>0.300108</td>\n",
              "    </tr>\n",
              "    <tr>\n",
              "      <th>트리글리세라이드</th>\n",
              "      <td>0.300108</td>\n",
              "      <td>1.000000</td>\n",
              "    </tr>\n",
              "  </tbody>\n",
              "</table>\n",
              "</div>"
            ],
            "text/plain": [
              "            총콜레스테롤  트리글리세라이드\n",
              "총콜레스테롤    1.000000  0.300108\n",
              "트리글리세라이드  0.300108  1.000000"
            ]
          },
          "metadata": {},
          "execution_count": 57
        }
      ]
    },
    {
      "cell_type": "code",
      "source": [
        "# 회귀선? 뭔 선?....아무튼 선의 기울기를 통해 상관관계를 보는\n",
        "sns.lmplot(data=rawData, x='총콜레스테롤', y='트리글리세라이드')"
      ],
      "metadata": {
        "colab": {
          "base_uri": "https://localhost:8080/",
          "height": 386
        },
        "id": "63DZPDpJABc-",
        "outputId": "af5f7916-d6e0-43ec-9fc8-a56e656ebeb1"
      },
      "execution_count": null,
      "outputs": [
        {
          "output_type": "execute_result",
          "data": {
            "text/plain": [
              "<seaborn.axisgrid.FacetGrid at 0x7f791a8aa250>"
            ]
          },
          "metadata": {},
          "execution_count": 61
        },
        {
          "output_type": "display_data",
          "data": {
            "image/png": "[encoded data removed]",
            "text/plain": [
              "<Figure size 360x360 with 1 Axes>"
            ]
          },
          "metadata": {
            "needs_background": "light"
          }
        }
      ]
    },
    {
      "cell_type": "code",
      "source": [
        "sns.regplot(data=rawData, x='총콜레스테롤', y='트리글리세라이드', line_kws={'color':'red'})\n",
        "# 마지막에 line_kws={'color':'red'} 를 넣어서 회귀선 색을 빨강으로 바쒔음\n",
        "# 기울기가 낮은 거 보니.. 어느정도 상관성은 있지만 그냥 상관성이 없다고 봐도 되겠네"
      ],
      "metadata": {
        "colab": {
          "base_uri": "https://localhost:8080/",
          "height": 296
        },
        "id": "T1dbltz8ApQY",
        "outputId": "cbc8a23c-caf5-460a-fe7b-af131b1d9161"
      },
      "execution_count": null,
      "outputs": [
        {
          "output_type": "execute_result",
          "data": {
            "text/plain": [
              "<matplotlib.axes._subplots.AxesSubplot at 0x7f791a735310>"
            ]
          },
          "metadata": {},
          "execution_count": 67
        },
        {
          "output_type": "display_data",
          "data": {
            "image/png": "[encoded data removed]",
            "text/plain": [
              "<Figure size 432x288 with 1 Axes>"
            ]
          },
          "metadata": {
            "needs_background": "light"
          }
        }
      ]
    },
    {
      "cell_type": "code",
      "source": [
        ""
      ],
      "metadata": {
        "id": "JQgLBPOZF6NV"
      },
      "execution_count": null,
      "outputs": []
    },
    {
      "cell_type": "code",
      "source": [
        ""
      ],
      "metadata": {
        "id": "cQkF5n-EF6ES"
      },
      "execution_count": null,
      "outputs": []
    },
    {
      "cell_type": "code",
      "source": [
        ""
      ],
      "metadata": {
        "id": "clXb-cG2F56O"
      },
      "execution_count": null,
      "outputs": []
    },
    {
      "cell_type": "code",
      "source": [
        "# rawData 말고 아웃라이어 제외한 tmp로 봐보자\n",
        "sns.scatterplot(data=tmp, x='총콜레스테롤', y= '트리글리세라이드')"
      ],
      "metadata": {
        "colab": {
          "base_uri": "https://localhost:8080/",
          "height": 296
        },
        "id": "SjUJPaNBFvmS",
        "outputId": "ea784bf5-de24-44ff-a2a5-988f22e42087"
      },
      "execution_count": null,
      "outputs": [
        {
          "output_type": "execute_result",
          "data": {
            "text/plain": [
              "<matplotlib.axes._subplots.AxesSubplot at 0x7f791a6350d0>"
            ]
          },
          "metadata": {},
          "execution_count": 69
        },
        {
          "output_type": "display_data",
          "data": {
            "image/png": "[encoded data removed]",
            "text/plain": [
              "<Figure size 432x288 with 1 Axes>"
            ]
          },
          "metadata": {
            "needs_background": "light"
          }
        }
      ]
    },
    {
      "cell_type": "code",
      "source": [
        "tmp[['총콜레스테롤', '트리글리세라이드']].corr()"
      ],
      "metadata": {
        "colab": {
          "base_uri": "https://localhost:8080/",
          "height": 112
        },
        "id": "_d5GikUEF1m1",
        "outputId": "93d0ded9-7ad9-49fd-b567-3e42be8ec01a"
      },
      "execution_count": null,
      "outputs": [
        {
          "output_type": "execute_result",
          "data": {
            "text/html": [
              "<div>\n",
              "<style scoped>\n",
              "    .dataframe tbody tr th:only-of-type {\n",
              "        vertical-align: middle;\n",
              "    }\n",
              "\n",
              "    .dataframe tbody tr th {\n",
              "        vertical-align: top;\n",
              "    }\n",
              "\n",
              "    .dataframe thead th {\n",
              "        text-align: right;\n",
              "    }\n",
              "</style>\n",
              "<table border=\"1\" class=\"dataframe\">\n",
              "  <thead>\n",
              "    <tr style=\"text-align: right;\">\n",
              "      <th></th>\n",
              "      <th>총콜레스테롤</th>\n",
              "      <th>트리글리세라이드</th>\n",
              "    </tr>\n",
              "  </thead>\n",
              "  <tbody>\n",
              "    <tr>\n",
              "      <th>총콜레스테롤</th>\n",
              "      <td>1.000000</td>\n",
              "      <td>0.236431</td>\n",
              "    </tr>\n",
              "    <tr>\n",
              "      <th>트리글리세라이드</th>\n",
              "      <td>0.236431</td>\n",
              "      <td>1.000000</td>\n",
              "    </tr>\n",
              "  </tbody>\n",
              "</table>\n",
              "</div>"
            ],
            "text/plain": [
              "            총콜레스테롤  트리글리세라이드\n",
              "총콜레스테롤    1.000000  0.236431\n",
              "트리글리세라이드  0.236431  1.000000"
            ]
          },
          "metadata": {},
          "execution_count": 70
        }
      ]
    },
    {
      "cell_type": "code",
      "source": [
        "sns.lmplot(data=tmp, x='총콜레스테롤', y='트리글리세라이드')"
      ],
      "metadata": {
        "colab": {
          "base_uri": "https://localhost:8080/",
          "height": 386
        },
        "id": "go0jtAWrF8pw",
        "outputId": "72345939-8c45-41dd-85c0-80cad6fd6330"
      },
      "execution_count": null,
      "outputs": [
        {
          "output_type": "execute_result",
          "data": {
            "text/plain": [
              "<seaborn.axisgrid.FacetGrid at 0x7f791a626e90>"
            ]
          },
          "metadata": {},
          "execution_count": 71
        },
        {
          "output_type": "display_data",
          "data": {
            "image/png": "[encoded data removed]",
            "text/plain": [
              "<Figure size 360x360 with 1 Axes>"
            ]
          },
          "metadata": {
            "needs_background": "light"
          }
        }
      ]
    },
    {
      "cell_type": "code",
      "source": [
        ""
      ],
      "metadata": {
        "id": "A9H0qq56GaA6"
      },
      "execution_count": null,
      "outputs": []
    },
    {
      "cell_type": "code",
      "source": [
        "sns.regplot(data=tmp, x='LDL콜레스테롤', y='트리글리세라이드', line_kws={'color':'red'})"
      ],
      "metadata": {
        "colab": {
          "base_uri": "https://localhost:8080/",
          "height": 296
        },
        "id": "A-TeSpenBXiD",
        "outputId": "31c3dc43-56db-4872-920c-5d0219d94831"
      },
      "execution_count": null,
      "outputs": [
        {
          "output_type": "execute_result",
          "data": {
            "text/plain": [
              "<matplotlib.axes._subplots.AxesSubplot at 0x7f791a533b10>"
            ]
          },
          "metadata": {},
          "execution_count": 73
        },
        {
          "output_type": "display_data",
          "data": {
            "image/png": "[encoded data removed]",
            "text/plain": [
              "<Figure size 432x288 with 1 Axes>"
            ]
          },
          "metadata": {
            "needs_background": "light"
          }
        }
      ]
    },
    {
      "cell_type": "code",
      "source": [
        "# 이번엔 joinplot 을 활용해보자\n",
        "sns.jointplot(data=tmp, x='LDL콜레스테롤', y='트리글리세라이드')"
      ],
      "metadata": {
        "colab": {
          "base_uri": "https://localhost:8080/",
          "height": 458
        },
        "id": "momVlWoAFh6R",
        "outputId": "1228c200-2a46-49ec-b0cd-bfd347c5a13b"
      },
      "execution_count": null,
      "outputs": [
        {
          "output_type": "execute_result",
          "data": {
            "text/plain": [
              "<seaborn.axisgrid.JointGrid at 0x7f791a4c6b90>"
            ]
          },
          "metadata": {},
          "execution_count": 77
        },
        {
          "output_type": "display_data",
          "data": {
            "image/png": "[encoded data removed]",
            "text/plain": [
              "<Figure size 432x432 with 3 Axes>"
            ]
          },
          "metadata": {
            "needs_background": "light"
          }
        }
      ]
    },
    {
      "cell_type": "markdown",
      "source": [
        "LDL콜레스테롤과 총콜레스테롤의 상관관계"
      ],
      "metadata": {
        "id": "n4jNxqtaHVVt"
      }
    },
    {
      "cell_type": "code",
      "source": [
        "sns.jointplot(data=tmp, x='LDL콜레스테롤', y='총콜레스테롤')"
      ],
      "metadata": {
        "colab": {
          "base_uri": "https://localhost:8080/",
          "height": 458
        },
        "id": "Qi9mU1LeHAiX",
        "outputId": "f648a1ab-9b06-4913-a34d-b52a5fb6da21"
      },
      "execution_count": null,
      "outputs": [
        {
          "output_type": "execute_result",
          "data": {
            "text/plain": [
              "<seaborn.axisgrid.JointGrid at 0x7f791a312bd0>"
            ]
          },
          "metadata": {},
          "execution_count": 78
        },
        {
          "output_type": "display_data",
          "data": {
            "image/png": "[encoded data removed]",
            "text/plain": [
              "<Figure size 432x432 with 3 Axes>"
            ]
          },
          "metadata": {
            "needs_background": "light"
          }
        }
      ]
    },
    {
      "cell_type": "code",
      "source": [
        "tmp[['LDL콜레스테롤','총콜레스테롤']].corr()"
      ],
      "metadata": {
        "colab": {
          "base_uri": "https://localhost:8080/",
          "height": 112
        },
        "id": "8koUztYAGXja",
        "outputId": "832e8b79-e958-49b3-e44b-d960a885f5a5"
      },
      "execution_count": null,
      "outputs": [
        {
          "output_type": "execute_result",
          "data": {
            "text/html": [
              "<div>\n",
              "<style scoped>\n",
              "    .dataframe tbody tr th:only-of-type {\n",
              "        vertical-align: middle;\n",
              "    }\n",
              "\n",
              "    .dataframe tbody tr th {\n",
              "        vertical-align: top;\n",
              "    }\n",
              "\n",
              "    .dataframe thead th {\n",
              "        text-align: right;\n",
              "    }\n",
              "</style>\n",
              "<table border=\"1\" class=\"dataframe\">\n",
              "  <thead>\n",
              "    <tr style=\"text-align: right;\">\n",
              "      <th></th>\n",
              "      <th>LDL콜레스테롤</th>\n",
              "      <th>총콜레스테롤</th>\n",
              "    </tr>\n",
              "  </thead>\n",
              "  <tbody>\n",
              "    <tr>\n",
              "      <th>LDL콜레스테롤</th>\n",
              "      <td>1.000000</td>\n",
              "      <td>0.895564</td>\n",
              "    </tr>\n",
              "    <tr>\n",
              "      <th>총콜레스테롤</th>\n",
              "      <td>0.895564</td>\n",
              "      <td>1.000000</td>\n",
              "    </tr>\n",
              "  </tbody>\n",
              "</table>\n",
              "</div>"
            ],
            "text/plain": [
              "          LDL콜레스테롤    총콜레스테롤\n",
              "LDL콜레스테롤  1.000000  0.895564\n",
              "총콜레스테롤    0.895564  1.000000"
            ]
          },
          "metadata": {},
          "execution_count": 80
        }
      ]
    },
    {
      "cell_type": "code",
      "source": [
        "sns.regplot(data=tmp, x='LDL콜레스테롤', y='총콜레스테롤', line_kws={'color':'red'})"
      ],
      "metadata": {
        "colab": {
          "base_uri": "https://localhost:8080/",
          "height": 296
        },
        "id": "ZKsg3dRIGft_",
        "outputId": "51790b34-b157-40fe-e9fa-3eccbf37cdc6"
      },
      "execution_count": null,
      "outputs": [
        {
          "output_type": "execute_result",
          "data": {
            "text/plain": [
              "<matplotlib.axes._subplots.AxesSubplot at 0x7f79234cd910>"
            ]
          },
          "metadata": {},
          "execution_count": 82
        },
        {
          "output_type": "display_data",
          "data": {
            "image/png": "[encoded data removed]",
            "text/plain": [
              "<Figure size 432x288 with 1 Axes>"
            ]
          },
          "metadata": {
            "needs_background": "light"
          }
        }
      ]
    },
    {
      "cell_type": "markdown",
      "source": [
        "rugplot은 정확한 분포를 확인하긴 어렵고\n",
        "자료의 위치정도를 확인\n",
        "자료의 밀도\n",
        "자료가 아주 많은 경우에는 히스토그램을 확인할 수 없는 경우가 있다. 그림을 그리기 어려워짐\n",
        "이럴 때 러그플롯으로 확인하면 좀 빠르게 확인할 수 있다\n"
      ],
      "metadata": {
        "id": "uoNlsWybHciG"
      }
    },
    {
      "cell_type": "code",
      "source": [
        "sns.rugplot(data=rawData, x='HDL콜레스테롤', height=1)"
      ],
      "metadata": {
        "colab": {
          "base_uri": "https://localhost:8080/",
          "height": 296
        },
        "id": "RrtFNdMuHRiO",
        "outputId": "391c0239-369b-4648-abc8-cfd8524a0f01"
      },
      "execution_count": null,
      "outputs": [
        {
          "output_type": "execute_result",
          "data": {
            "text/plain": [
              "<matplotlib.axes._subplots.AxesSubplot at 0x7f791a1780d0>"
            ]
          },
          "metadata": {},
          "execution_count": 83
        },
        {
          "output_type": "display_data",
          "data": {
            "image/png": "[encoded data removed]",
            "text/plain": [
              "<Figure size 432x288 with 1 Axes>"
            ]
          },
          "metadata": {
            "needs_background": "light"
          }
        }
      ]
    },
    {
      "cell_type": "markdown",
      "source": [
        "'총콜레스테롤'에세 'HDL', 'LDL' 을 빼면 'IDL'이 남는데(자료에는 따로 IDL이 없음. 그래서 만들어준다?) \n",
        "\n",
        "- '트리글리세라이드'와의 상관관계\n"
      ],
      "metadata": {
        "id": "YEab2k6eIBcl"
      }
    },
    {
      "cell_type": "markdown",
      "source": [
        "IDL 콜레스테롤 수치를 구해보자\n",
        " \n",
        "\n",
        "- 총콜레스테롤에서 HDL,LDL을 제외하면 IDL이 남는데, 자료에는 없음\n",
        "  - 이걸 파생변수 라고 한다\n",
        "- 주어진 자료에서 타겟변수를 가장 잘 설명할 수 있는 새로운 변수를 만들어 내는 것  -> **데이터 마이닝**\n",
        "  - 분석에서 제일 중요한 부분이다\n",
        "\n",
        "촐콜레스테롤이랑 트리글리세라이드랑 큰 의미가 없었는데,\n",
        "만약 트리글리세라이드가 우리의 타겟변수라면 좋은 파생변수를 만들어 낸 것\n",
        "- IDL = 촐콜레스테롤-(HDL+LDL)"
      ],
      "metadata": {
        "id": "C7pMdFloIwng"
      }
    },
    {
      "cell_type": "code",
      "source": [
        "tmp['총콜레스테롤'] - (tmp['HDL콜레스테롤'] + tmp['LDL콜레스테롤'])"
      ],
      "metadata": {
        "colab": {
          "base_uri": "https://localhost:8080/"
        },
        "id": "WFNVhzDRH3_u",
        "outputId": "ee77e9f7-5a9d-4a1a-e33e-d34c2921b4cf"
      },
      "execution_count": null,
      "outputs": [
        {
          "output_type": "execute_result",
          "data": {
            "text/plain": [
              "0      20.0\n",
              "1      17.0\n",
              "2      11.0\n",
              "3       5.0\n",
              "4      30.0\n",
              "       ... \n",
              "995    21.0\n",
              "996    14.0\n",
              "997     9.0\n",
              "998    21.0\n",
              "999    16.0\n",
              "Length: 999, dtype: float64"
            ]
          },
          "metadata": {},
          "execution_count": 89
        }
      ]
    },
    {
      "cell_type": "code",
      "source": [
        "tmp['IDL콜레스테롤'] = tmp['총콜레스테롤'] - (tmp['HDL콜레스테롤'] + tmp['LDL콜레스테롤'])\n",
        "tmp.head(2)"
      ],
      "metadata": {
        "colab": {
          "base_uri": "https://localhost:8080/",
          "height": 270
        },
        "id": "Ym-b2-JgJwSg",
        "outputId": "1dca7480-4e99-4a37-cda2-4fb7de24c89f"
      },
      "execution_count": null,
      "outputs": [
        {
          "output_type": "execute_result",
          "data": {
            "text/html": [
              "<div>\n",
              "<style scoped>\n",
              "    .dataframe tbody tr th:only-of-type {\n",
              "        vertical-align: middle;\n",
              "    }\n",
              "\n",
              "    .dataframe tbody tr th {\n",
              "        vertical-align: top;\n",
              "    }\n",
              "\n",
              "    .dataframe thead th {\n",
              "        text-align: right;\n",
              "    }\n",
              "</style>\n",
              "<table border=\"1\" class=\"dataframe\">\n",
              "  <thead>\n",
              "    <tr style=\"text-align: right;\">\n",
              "      <th></th>\n",
              "      <th>기준년도</th>\n",
              "      <th>가입자일련번호</th>\n",
              "      <th>성별코드</th>\n",
              "      <th>연령대코드(5세단위)</th>\n",
              "      <th>시도코드</th>\n",
              "      <th>신장(5Cm단위)</th>\n",
              "      <th>체중(5Kg단위)</th>\n",
              "      <th>허리둘레</th>\n",
              "      <th>시력(좌)</th>\n",
              "      <th>시력(우)</th>\n",
              "      <th>청력(좌)</th>\n",
              "      <th>청력(우)</th>\n",
              "      <th>수축기혈압</th>\n",
              "      <th>이완기혈압</th>\n",
              "      <th>식전혈당(공복혈당)</th>\n",
              "      <th>총콜레스테롤</th>\n",
              "      <th>트리글리세라이드</th>\n",
              "      <th>HDL콜레스테롤</th>\n",
              "      <th>LDL콜레스테롤</th>\n",
              "      <th>혈색소</th>\n",
              "      <th>요단백</th>\n",
              "      <th>혈청크레아티닌</th>\n",
              "      <th>(혈청지오티)AST</th>\n",
              "      <th>(혈청지오티)ALT</th>\n",
              "      <th>감마지티피</th>\n",
              "      <th>흡연상태</th>\n",
              "      <th>음주여부</th>\n",
              "      <th>구강검진 수검여부</th>\n",
              "      <th>치아우식증유무</th>\n",
              "      <th>결손치유무</th>\n",
              "      <th>치아마모증유무</th>\n",
              "      <th>제3대구치(사랑니)이상</th>\n",
              "      <th>치석</th>\n",
              "      <th>데이터공개일자</th>\n",
              "      <th>IDL콜레스테롤</th>\n",
              "    </tr>\n",
              "  </thead>\n",
              "  <tbody>\n",
              "    <tr>\n",
              "      <th>0</th>\n",
              "      <td>2016</td>\n",
              "      <td>465969</td>\n",
              "      <td>1</td>\n",
              "      <td>8</td>\n",
              "      <td>41</td>\n",
              "      <td>170.0</td>\n",
              "      <td>70.0</td>\n",
              "      <td>74.0</td>\n",
              "      <td>0.7</td>\n",
              "      <td>0.7</td>\n",
              "      <td>1.0</td>\n",
              "      <td>1.0</td>\n",
              "      <td>118.0</td>\n",
              "      <td>70.0</td>\n",
              "      <td>85.0</td>\n",
              "      <td>194.0</td>\n",
              "      <td>97.0</td>\n",
              "      <td>54.0</td>\n",
              "      <td>120.0</td>\n",
              "      <td>14.6</td>\n",
              "      <td>2.0</td>\n",
              "      <td>1.1</td>\n",
              "      <td>31.0</td>\n",
              "      <td>36.0</td>\n",
              "      <td>96.0</td>\n",
              "      <td>3.0</td>\n",
              "      <td>NaN</td>\n",
              "      <td>1</td>\n",
              "      <td>NaN</td>\n",
              "      <td>NaN</td>\n",
              "      <td>NaN</td>\n",
              "      <td>NaN</td>\n",
              "      <td>2.0</td>\n",
              "      <td>20171219</td>\n",
              "      <td>20.0</td>\n",
              "    </tr>\n",
              "    <tr>\n",
              "      <th>1</th>\n",
              "      <td>2016</td>\n",
              "      <td>565871</td>\n",
              "      <td>1</td>\n",
              "      <td>10</td>\n",
              "      <td>41</td>\n",
              "      <td>160.0</td>\n",
              "      <td>60.0</td>\n",
              "      <td>81.0</td>\n",
              "      <td>1.2</td>\n",
              "      <td>1.0</td>\n",
              "      <td>1.0</td>\n",
              "      <td>1.0</td>\n",
              "      <td>134.0</td>\n",
              "      <td>84.0</td>\n",
              "      <td>105.0</td>\n",
              "      <td>143.0</td>\n",
              "      <td>84.0</td>\n",
              "      <td>33.0</td>\n",
              "      <td>93.0</td>\n",
              "      <td>16.2</td>\n",
              "      <td>1.0</td>\n",
              "      <td>1.0</td>\n",
              "      <td>20.0</td>\n",
              "      <td>23.0</td>\n",
              "      <td>14.0</td>\n",
              "      <td>1.0</td>\n",
              "      <td>NaN</td>\n",
              "      <td>0</td>\n",
              "      <td>NaN</td>\n",
              "      <td>NaN</td>\n",
              "      <td>NaN</td>\n",
              "      <td>NaN</td>\n",
              "      <td>NaN</td>\n",
              "      <td>20171219</td>\n",
              "      <td>17.0</td>\n",
              "    </tr>\n",
              "  </tbody>\n",
              "</table>\n",
              "</div>"
            ],
            "text/plain": [
              "   기준년도  가입자일련번호  성별코드  연령대코드(5세단위)  ...  제3대구치(사랑니)이상   치석   데이터공개일자  IDL콜레스테롤\n",
              "0  2016   465969     1            8  ...           NaN  2.0  20171219      20.0\n",
              "1  2016   565871     1           10  ...           NaN  NaN  20171219      17.0\n",
              "\n",
              "[2 rows x 35 columns]"
            ]
          },
          "metadata": {},
          "execution_count": 92
        }
      ]
    },
    {
      "cell_type": "code",
      "source": [
        "sns.jointplot(data=tmp, x='IDL콜레스테롤', y='트리글리세라이드')"
      ],
      "metadata": {
        "colab": {
          "base_uri": "https://localhost:8080/",
          "height": 458
        },
        "id": "Vy9ZuOPGLBIM",
        "outputId": "711e7598-fc0e-4fb2-9af0-fe4c703f8617"
      },
      "execution_count": null,
      "outputs": [
        {
          "output_type": "execute_result",
          "data": {
            "text/plain": [
              "<seaborn.axisgrid.JointGrid at 0x7f7919f71550>"
            ]
          },
          "metadata": {},
          "execution_count": 94
        },
        {
          "output_type": "display_data",
          "data": {
            "image/png": "[encoded data removed]",
            "text/plain": [
              "<Figure size 432x432 with 3 Axes>"
            ]
          },
          "metadata": {
            "needs_background": "light"
          }
        }
      ]
    },
    {
      "cell_type": "markdown",
      "source": [
        "보통 통계가 잘 적용되고 있는 분야\n",
        "  - 날씨, 항공, 군사, 마켓팅, ...\n",
        "  - 이런 분야들에서는 변수에 대한 연구가 10-20년 동안 계속 이뤄지고 있습니다. \n",
        "\n",
        "  - 추천논문\n",
        "    - [Simple and scalable response prediction for display advertising](https://people.csail.mit.edu/romer/papers/TISTRespPredAds.pdf)\n",
        "    - NHN에서 신입 분석가 채용공고\n",
        "      - 5편의 논문을 적어놓고 그 중에 한 편을 골라서 리뷰\n",
        "      - 5편의 논문중에 하나이기도 했고\n",
        "    - 실제 마케팅 분야에서 사용되고 연구된 변수들에 대한 내용도 확인 \n",
        "    - 데이터 분석(변수분석), 알고리즘(로지스틱 회귀), 데이터 수집부터 적용까지 이 논문 한편에 다 들어있어요\n",
        "      - 초보자가 읽기에는 어려운 내용인데, 초보자가 반드시 이해해야 되는 내용 이라고 생각해요 \n",
        "      - 근데 이건 번역하다 말았음 [https://aldente0630.github.io/data-science/2018/08/26/a-simple-and-scalable-response-prediction-for-display-advertising.html]\n",
        "\n"
      ],
      "metadata": {
        "id": "vUPgYNBTKW9-"
      }
    },
    {
      "cell_type": "markdown",
      "source": [
        "### 연속형 변수와 범주형 변수\n",
        "- barplot \n",
        "  - 비율을 확인할 때 좋음\n"
      ],
      "metadata": {
        "id": "3fkosX8Ug4q9"
      }
    },
    {
      "cell_type": "markdown",
      "source": [
        "흡연과 콜레스테롤의 관계를 확인해 보자\n",
        " - 흡연은 범주형, 콜레스테롤은 수치형"
      ],
      "metadata": {
        "id": "U5iQd0vbg-cc"
      }
    },
    {
      "cell_type": "code",
      "source": [
        "sns.barplot(data=tmp, x='흡연상태', y='IDL콜레스테롤')\n",
        "# 흡연과 콜레스테롤의 관계가 있어보이네?"
      ],
      "metadata": {
        "colab": {
          "base_uri": "https://localhost:8080/",
          "height": 296
        },
        "id": "_FkV8pIogr7p",
        "outputId": "a4e13cf8-878b-4032-86fe-af32ae2a94aa"
      },
      "execution_count": null,
      "outputs": [
        {
          "output_type": "execute_result",
          "data": {
            "text/plain": [
              "<matplotlib.axes._subplots.AxesSubplot at 0x7f7919d06650>"
            ]
          },
          "metadata": {},
          "execution_count": 95
        },
        {
          "output_type": "display_data",
          "data": {
            "image/png": "[encoded data removed]",
            "text/plain": [
              "<Figure size 432x288 with 1 Axes>"
            ]
          },
          "metadata": {
            "needs_background": "light"
          }
        }
      ]
    },
    {
      "cell_type": "code",
      "source": [
        "sns.countplot(data=tmp, x='흡연상태')\n",
        "# 이걸 보면, 비흡연자 수가 현저히 많지만 위의 콜레스테롤에서는 흡연자가 제일 높음"
      ],
      "metadata": {
        "colab": {
          "base_uri": "https://localhost:8080/",
          "height": 296
        },
        "id": "nzgryCqRhujN",
        "outputId": "49408ffd-a317-4f60-a867-9fd1a115ae62"
      },
      "execution_count": null,
      "outputs": [
        {
          "output_type": "execute_result",
          "data": {
            "text/plain": [
              "<matplotlib.axes._subplots.AxesSubplot at 0x7f7919d3c710>"
            ]
          },
          "metadata": {},
          "execution_count": 97
        },
        {
          "output_type": "display_data",
          "data": {
            "image/png": "[encoded data removed]",
            "text/plain": [
              "<Figure size 432x288 with 1 Axes>"
            ]
          },
          "metadata": {
            "needs_background": "light"
          }
        }
      ]
    },
    {
      "cell_type": "code",
      "source": [
        "tmp[['흡연상태','IDL콜레스테롤']].corr()\n",
        "# 근데 이거 보면 관계 없어보이는데?..."
      ],
      "metadata": {
        "colab": {
          "base_uri": "https://localhost:8080/",
          "height": 112
        },
        "id": "THZCGEdHPu76",
        "outputId": "11eba873-e828-4f00-c07d-363400e26128"
      },
      "execution_count": null,
      "outputs": [
        {
          "output_type": "execute_result",
          "data": {
            "text/html": [
              "<div>\n",
              "<style scoped>\n",
              "    .dataframe tbody tr th:only-of-type {\n",
              "        vertical-align: middle;\n",
              "    }\n",
              "\n",
              "    .dataframe tbody tr th {\n",
              "        vertical-align: top;\n",
              "    }\n",
              "\n",
              "    .dataframe thead th {\n",
              "        text-align: right;\n",
              "    }\n",
              "</style>\n",
              "<table border=\"1\" class=\"dataframe\">\n",
              "  <thead>\n",
              "    <tr style=\"text-align: right;\">\n",
              "      <th></th>\n",
              "      <th>흡연상태</th>\n",
              "      <th>IDL콜레스테롤</th>\n",
              "    </tr>\n",
              "  </thead>\n",
              "  <tbody>\n",
              "    <tr>\n",
              "      <th>흡연상태</th>\n",
              "      <td>1.00000</td>\n",
              "      <td>0.23108</td>\n",
              "    </tr>\n",
              "    <tr>\n",
              "      <th>IDL콜레스테롤</th>\n",
              "      <td>0.23108</td>\n",
              "      <td>1.00000</td>\n",
              "    </tr>\n",
              "  </tbody>\n",
              "</table>\n",
              "</div>"
            ],
            "text/plain": [
              "             흡연상태  IDL콜레스테롤\n",
              "흡연상태      1.00000   0.23108\n",
              "IDL콜레스테롤  0.23108   1.00000"
            ]
          },
          "metadata": {},
          "execution_count": 98
        }
      ]
    },
    {
      "cell_type": "code",
      "source": [
        "sns.histplot(data=tmp, x='IDL콜레스테롤')"
      ],
      "metadata": {
        "colab": {
          "base_uri": "https://localhost:8080/",
          "height": 296
        },
        "id": "R1cQxcgohmKe",
        "outputId": "c974eede-523d-4c0c-ea71-b5279955b147"
      },
      "execution_count": null,
      "outputs": [
        {
          "output_type": "execute_result",
          "data": {
            "text/plain": [
              "<matplotlib.axes._subplots.AxesSubplot at 0x7f7919c5f490>"
            ]
          },
          "metadata": {},
          "execution_count": 105
        },
        {
          "output_type": "display_data",
          "data": {
            "image/png": "[encoded data removed]",
            "text/plain": [
              "<Figure size 432x288 with 1 Axes>"
            ]
          },
          "metadata": {
            "needs_background": "light"
          }
        }
      ]
    },
    {
      "cell_type": "code",
      "source": [
        "sns.histplot(data=tmp, x='IDL콜레스테롤', hue='흡연상태')"
      ],
      "metadata": {
        "colab": {
          "base_uri": "https://localhost:8080/",
          "height": 296
        },
        "id": "pfg9bOrPjcIr",
        "outputId": "973a5212-491f-42f0-8978-9cf2ef8084c7"
      },
      "execution_count": null,
      "outputs": [
        {
          "output_type": "execute_result",
          "data": {
            "text/plain": [
              "<matplotlib.axes._subplots.AxesSubplot at 0x7f7923aba290>"
            ]
          },
          "metadata": {},
          "execution_count": 106
        },
        {
          "output_type": "display_data",
          "data": {
            "image/png": "[encoded data removed]",
            "text/plain": [
              "<Figure size 432x288 with 1 Axes>"
            ]
          },
          "metadata": {
            "needs_background": "light"
          }
        }
      ]
    },
    {
      "cell_type": "code",
      "source": [
        "sns.histplot(data=tmp, x='IDL콜레스테롤', hue='성별코드')"
      ],
      "metadata": {
        "colab": {
          "base_uri": "https://localhost:8080/",
          "height": 296
        },
        "id": "qsEaRW6ujoCT",
        "outputId": "06ce759b-3e28-4ee5-9c2c-5e527a86f0d0"
      },
      "execution_count": null,
      "outputs": [
        {
          "output_type": "execute_result",
          "data": {
            "text/plain": [
              "<matplotlib.axes._subplots.AxesSubplot at 0x7f791a63a850>"
            ]
          },
          "metadata": {},
          "execution_count": 107
        },
        {
          "output_type": "display_data",
          "data": {
            "image/png": "[encoded data removed]",
            "text/plain": [
              "<Figure size 432x288 with 1 Axes>"
            ]
          },
          "metadata": {
            "needs_background": "light"
          }
        }
      ]
    },
    {
      "cell_type": "code",
      "source": [
        "# 피규어는 크기 확대한 것 같은\n",
        "# multiple 파라미터를 이용하면 그래프의 형태를 바꿀 수 있음\n",
        "# dodge는\n",
        "plt.figure( figsize=(15, 5))\n",
        "sns.histplot(data=tmp, x='IDL콜레스테롤', hue='성별코드', multiple='dodge')"
      ],
      "metadata": {
        "colab": {
          "base_uri": "https://localhost:8080/",
          "height": 260
        },
        "id": "42pa9N0wjuGy",
        "outputId": "0e5a6e44-1124-4704-c7e1-b8baeb8836a9"
      },
      "execution_count": null,
      "outputs": [
        {
          "output_type": "execute_result",
          "data": {
            "text/plain": [
              "<matplotlib.axes._subplots.AxesSubplot at 0x7f791881aa50>"
            ]
          },
          "metadata": {},
          "execution_count": 117
        },
        {
          "output_type": "display_data",
          "data": {
            "image/png": "[encoded data removed]",
            "text/plain": [
              "<Figure size 1080x360 with 1 Axes>"
            ]
          },
          "metadata": {
            "needs_background": "light"
          }
        }
      ]
    },
    {
      "cell_type": "code",
      "source": [
        "plt.figure( figsize=(15, 5))\n",
        "sns.histplot(data=tmp, x='IDL콜레스테롤', hue='성별코드', multiple='stack')"
      ],
      "metadata": {
        "colab": {
          "base_uri": "https://localhost:8080/",
          "height": 258
        },
        "id": "dd3bOxp8kN64",
        "outputId": "3e3cfe01-9074-4c72-d3a3-94ae2fc6e4db"
      },
      "execution_count": null,
      "outputs": [
        {
          "output_type": "execute_result",
          "data": {
            "text/plain": [
              "<matplotlib.axes._subplots.AxesSubplot at 0x7f79190aaa50>"
            ]
          },
          "metadata": {},
          "execution_count": 111
        },
        {
          "output_type": "display_data",
          "data": {
            "image/png": "[encoded data removed]",
            "text/plain": [
              "<Figure size 1080x360 with 1 Axes>"
            ]
          },
          "metadata": {
            "needs_background": "light"
          }
        }
      ]
    },
    {
      "cell_type": "markdown",
      "source": [
        "#### boxplot\n",
        "- 탐색적 자료분석에서 주로 많이 사용\n",
        "- 4분위수를 이용한 시각화\n",
        "  - 이상치(Outlier)를 확인하는 용도로 사용\n",
        "  - 자료를 4개의 구간으로 나눈 값\n",
        "  - 1분위수 : 자료의 25%에 해당하는 값\n",
        "  - 2분위수 : 자료의 50%에 해당하는 값(중앙값과 동일)\n",
        "  - 3분위수 : 자료의 75%에 해당하는 값을\n",
        "  - 1 2 **3** 4 5 **6** 7 8 9 10 **11**\n",
        "\n",
        "- IQR : q3 - q1\n",
        "  - 최대제한선 : q3 + ( IQR * 1.5)\n",
        "  - 최소제한선 : q1 _ ( IQR * 1.5)"
      ],
      "metadata": {
        "id": "_zKvJnQalj83"
      }
    },
    {
      "cell_type": "code",
      "source": [
        "plt.figure(figsize=(15, 10))\n",
        "sns.boxplot(data=tmp, x='흡연상태', y='IDL콜레스테롤')\n",
        "# I 모양의 위쪽에 찍힌 것들은 아웃라이어라고 하는데,\n",
        "# 이걸 아웃라이어로 보느냐, 어디까지를 아웃라이어로 보느냐는 분석가에 따름"
      ],
      "metadata": {
        "colab": {
          "base_uri": "https://localhost:8080/",
          "height": 450
        },
        "id": "w2ULroSxlBCl",
        "outputId": "f7c18403-ffb4-4b50-e56c-7bd893ecaf74"
      },
      "execution_count": null,
      "outputs": [
        {
          "output_type": "execute_result",
          "data": {
            "text/plain": [
              "<matplotlib.axes._subplots.AxesSubplot at 0x7f79183efc10>"
            ]
          },
          "metadata": {},
          "execution_count": 123
        },
        {
          "output_type": "display_data",
          "data": {
            "image/png": "[encoded data removed]",
            "text/plain": [
              "<Figure size 1080x720 with 1 Axes>"
            ]
          },
          "metadata": {
            "needs_background": "light"
          }
        }
      ]
    },
    {
      "cell_type": "markdown",
      "source": [
        "### 두 변수 모두 범주형\n",
        "- countplot"
      ],
      "metadata": {
        "id": "ZPPkwZMsizCD"
      }
    },
    {
      "cell_type": "code",
      "source": [
        "sns.countplot(data=tmp, x='성별코드', hue='흡연상태')\n",
        "# hue 파라미터는 반드시 이산형이나 범주형 변수가 들어옴\n"
      ],
      "metadata": {
        "colab": {
          "base_uri": "https://localhost:8080/",
          "height": 296
        },
        "id": "brCfaPRMi3rZ",
        "outputId": "79b1b19b-23f4-4d54-a8bd-3ecf02a1f64b"
      },
      "execution_count": null,
      "outputs": [
        {
          "output_type": "execute_result",
          "data": {
            "text/plain": [
              "<matplotlib.axes._subplots.AxesSubplot at 0x7f7919bf90d0>"
            ]
          },
          "metadata": {},
          "execution_count": 102
        },
        {
          "output_type": "display_data",
          "data": {
            "image/png": "[encoded data removed]",
            "text/plain": [
              "<Figure size 432x288 with 1 Axes>"
            ]
          },
          "metadata": {
            "needs_background": "light"
          }
        }
      ]
    },
    {
      "cell_type": "markdown",
      "source": [
        "## 변수가 3개 이상인 경우에 그릴 수 있는 방법\n",
        "- 최대 4개까지 표현가능\n",
        "  - 변수의 종류에 따라 달라지긴 함"
      ],
      "metadata": {
        "id": "tHReQBEanaV8"
      }
    },
    {
      "cell_type": "code",
      "source": [
        "sns.barplot(data=tmp, x='흡연상태', y='IDL콜레스테롤', hue='성별코드')"
      ],
      "metadata": {
        "colab": {
          "base_uri": "https://localhost:8080/",
          "height": 296
        },
        "id": "CXkoHorAkRu0",
        "outputId": "0d0967e8-a45c-45d5-da59-1ea6ad57b056"
      },
      "execution_count": null,
      "outputs": [
        {
          "output_type": "execute_result",
          "data": {
            "text/plain": [
              "<matplotlib.axes._subplots.AxesSubplot at 0x7f7918366bd0>"
            ]
          },
          "metadata": {},
          "execution_count": 125
        },
        {
          "output_type": "display_data",
          "data": {
            "image/png": "[encoded data removed]",
            "text/plain": [
              "<Figure size 432x288 with 1 Axes>"
            ]
          },
          "metadata": {
            "needs_background": "light"
          }
        }
      ]
    },
    {
      "cell_type": "code",
      "source": [
        "sns.jointplot(data=tmp, x='IDL콜레스테롤', y='트리글리세라이드', hue='흡연상태')"
      ],
      "metadata": {
        "colab": {
          "base_uri": "https://localhost:8080/",
          "height": 458
        },
        "id": "Tr44zttvnjfp",
        "outputId": "b50dd2c6-6e8d-4e3b-bc6b-384f402fa6bf"
      },
      "execution_count": null,
      "outputs": [
        {
          "output_type": "execute_result",
          "data": {
            "text/plain": [
              "<seaborn.axisgrid.JointGrid at 0x7f79182b97d0>"
            ]
          },
          "metadata": {},
          "execution_count": 126
        },
        {
          "output_type": "display_data",
          "data": {
            "image/png": "[encoded data removed]",
            "text/plain": [
              "<Figure size 432x432 with 3 Axes>"
            ]
          },
          "metadata": {
            "needs_background": "light"
          }
        }
      ]
    },
    {
      "cell_type": "code",
      "source": [
        "# scatterplot을 쓰면 위의 것에다가 연속형변수를 하나 더 추가할 수 있음\n",
        "plt.figure( figsize=(15, 5))\n",
        "sns.scatterplot(data=tmp, x='IDL콜레스테롤', y='트리글리세라이드', hue='흡연상태', size='총콜레스테롤', sizes=(10,400))"
      ],
      "metadata": {
        "colab": {
          "base_uri": "https://localhost:8080/",
          "height": 258
        },
        "id": "gQUmFOBNn-bb",
        "outputId": "f2c25ef5-cbfe-4adc-b090-fca02a40b694"
      },
      "execution_count": null,
      "outputs": [
        {
          "output_type": "execute_result",
          "data": {
            "text/plain": [
              "<matplotlib.axes._subplots.AxesSubplot at 0x7f7917f035d0>"
            ]
          },
          "metadata": {},
          "execution_count": 134
        },
        {
          "output_type": "display_data",
          "data": {
            "image/png": "[encoded data removed]",
            "text/plain": [
              "<Figure size 1080x360 with 1 Axes>"
            ]
          },
          "metadata": {
            "needs_background": "light"
          }
        }
      ]
    },
    {
      "cell_type": "code",
      "source": [
        ""
      ],
      "metadata": {
        "id": "5hLDuy-svrqr"
      },
      "execution_count": null,
      "outputs": []
    },
    {
      "cell_type": "code",
      "source": [
        ""
      ],
      "metadata": {
        "id": "NqvrSqOovrTg"
      },
      "execution_count": null,
      "outputs": []
    },
    {
      "cell_type": "code",
      "source": [
        ""
      ],
      "metadata": {
        "id": "M60FAna1vrPg"
      },
      "execution_count": null,
      "outputs": []
    },
    {
      "cell_type": "markdown",
      "source": [
        "# 그래프 표현\n",
        "- subplot\n",
        "- subplots"
      ],
      "metadata": {
        "id": "la1Jh03Ywb9S"
      }
    },
    {
      "cell_type": "markdown",
      "source": [
        "## 레이아웃 분할"
      ],
      "metadata": {
        "id": "aYDbupt5yoNS"
      }
    },
    {
      "cell_type": "code",
      "source": [
        "#subplot을 이용해 원하는 위치에 자리를 잡아준다?\n",
        "plt.figure(figsize=(12, 5))\n",
        "plt.subplot(2, 2, 1) # 2x2의 첫번째 칸에\n",
        "sns. countplot(data=tmp, x='흡연상태')\n",
        "\n",
        "plt.subplot(2, 2, 2) # 2x2의 2번째 칸에\n",
        "sns.barplot(data=tmp, x='흡연상태', y='IDL콜레스테롤')\n",
        "\n",
        "plt.subplot(2, 2, 4) # 2x2의 4번째 칸에\n",
        "sns.boxplot(data=tmp, x='흡연상태', y='IDL콜레스테롤')"
      ],
      "metadata": {
        "colab": {
          "base_uri": "https://localhost:8080/",
          "height": 310
        },
        "id": "UD9KvMJEpTDk",
        "outputId": "a4094ef1-1aea-48c5-e51d-f9359a71858a"
      },
      "execution_count": null,
      "outputs": [
        {
          "output_type": "execute_result",
          "data": {
            "text/plain": [
              "<matplotlib.axes._subplots.AxesSubplot at 0x7f7917b45150>"
            ]
          },
          "metadata": {},
          "execution_count": 145
        },
        {
          "output_type": "display_data",
          "data": {
            "image/png": "[encoded data removed]",
            "text/plain": [
              "<Figure size 864x360 with 3 Axes>"
            ]
          },
          "metadata": {
            "needs_background": "light"
          }
        }
      ]
    },
    {
      "cell_type": "markdown",
      "source": [
        "subplots"
      ],
      "metadata": {
        "id": "0MvWbXKYxiCV"
      }
    },
    {
      "cell_type": "code",
      "source": [
        "# array 객체를 가져와서 미리 만들어 놓음 ?...\n",
        "# a[0,0], a[0,1], a[1,0], a[1,1] 로 위치를 잡아놓을 수 있다\n",
        "plt.subplots(2, 2, figsize=(15,5))"
      ],
      "metadata": {
        "colab": {
          "base_uri": "https://localhost:8080/",
          "height": 340
        },
        "id": "P6XSNM2jwv5f",
        "outputId": "50cc3943-cc28-4d00-dc78-67de4e999d5e"
      },
      "execution_count": null,
      "outputs": [
        {
          "output_type": "execute_result",
          "data": {
            "text/plain": [
              "(<Figure size 1080x360 with 4 Axes>,\n",
              " array([[<matplotlib.axes._subplots.AxesSubplot object at 0x7f7917a437d0>,\n",
              "         <matplotlib.axes._subplots.AxesSubplot object at 0x7f7917a3fe10>],\n",
              "        [<matplotlib.axes._subplots.AxesSubplot object at 0x7f79179fbe50>,\n",
              "         <matplotlib.axes._subplots.AxesSubplot object at 0x7f79179be450>]],\n",
              "       dtype=object))"
            ]
          },
          "metadata": {},
          "execution_count": 146
        },
        {
          "output_type": "display_data",
          "data": {
            "image/png": "[encoded data removed]",
            "text/plain": [
              "<Figure size 1080x360 with 4 Axes>"
            ]
          },
          "metadata": {
            "needs_background": "light"
          }
        }
      ]
    },
    {
      "cell_type": "code",
      "source": [
        "# ax -> 위 그림에서의 어레이 객체\n",
        "fig, ax = plt.subplots(2, 2, figsize=(15,5))\n",
        "\n",
        " # 2x2의 첫번째 칸에\n",
        "sns. countplot(data=tmp, x='흡연상태', ax=ax[0,0])\n",
        "\n",
        " # 2x2의 2번째 칸에\n",
        "sns.barplot(data=tmp, x='흡연상태', y='IDL콜레스테롤', ax=ax[0,1])\n",
        "\n",
        " # 2x2의 4번째 칸에\n",
        "sns.boxplot(data=tmp, x='흡연상태', y='IDL콜레스테롤', ax=ax[1,1])\n"
      ],
      "metadata": {
        "colab": {
          "base_uri": "https://localhost:8080/",
          "height": 258
        },
        "id": "Sq4peh0ixqvv",
        "outputId": "30b5617b-a8b9-460b-b586-f8ca2ac11043"
      },
      "execution_count": null,
      "outputs": [
        {
          "output_type": "execute_result",
          "data": {
            "text/plain": [
              "<matplotlib.axes._subplots.AxesSubplot at 0x7f7917713a90>"
            ]
          },
          "metadata": {},
          "execution_count": 148
        },
        {
          "output_type": "display_data",
          "data": {
            "image/png": "[encoded data removed]",
            "text/plain": [
              "<Figure size 1080x360 with 4 Axes>"
            ]
          },
          "metadata": {
            "needs_background": "light"
          }
        }
      ]
    },
    {
      "cell_type": "markdown",
      "source": [
        "## 색지정"
      ],
      "metadata": {
        "id": "v-CiIw8ayh2-"
      }
    },
    {
      "cell_type": "code",
      "source": [
        "sns.palplot(sns. color_palette('hls', 20))"
      ],
      "metadata": {
        "colab": {
          "base_uri": "https://localhost:8080/",
          "height": 57
        },
        "id": "myieO3rVyT9M",
        "outputId": "7b9d834f-aeac-44d3-8cad-0265d3b4e915"
      },
      "execution_count": null,
      "outputs": [
        {
          "output_type": "display_data",
          "data": {
            "image/png": "[encoded data removed]",
            "text/plain": [
              "<Figure size 1440x72 with 1 Axes>"
            ]
          },
          "metadata": {
            "needs_background": "light"
          }
        }
      ]
    },
    {
      "cell_type": "code",
      "source": [
        "sns.palplot(sns. color_palette('coolwarm', 20))"
      ],
      "metadata": {
        "colab": {
          "base_uri": "https://localhost:8080/",
          "height": 57
        },
        "id": "kLWVAwusy-x-",
        "outputId": "74cbaf7f-9082-4901-c683-52d954280337"
      },
      "execution_count": null,
      "outputs": [
        {
          "output_type": "display_data",
          "data": {
            "image/png": "[encoded data removed]",
            "text/plain": [
              "<Figure size 1440x72 with 1 Axes>"
            ]
          },
          "metadata": {
            "needs_background": "light"
          }
        }
      ]
    },
    {
      "cell_type": "code",
      "source": [
        "sns.palplot(sns. color_palette('rocket', 20))"
      ],
      "metadata": {
        "colab": {
          "base_uri": "https://localhost:8080/",
          "height": 57
        },
        "id": "xp6GX0R7zFaj",
        "outputId": "179cda10-2372-49c9-8a91-384c6ef81760"
      },
      "execution_count": null,
      "outputs": [
        {
          "output_type": "display_data",
          "data": {
            "image/png": "[encoded data removed]",
            "text/plain": [
              "<Figure size 1440x72 with 1 Axes>"
            ]
          },
          "metadata": {
            "needs_background": "light"
          }
        }
      ]
    },
    {
      "cell_type": "code",
      "source": [
        "sns.palplot(sns. color_palette('YlOrBr', 20))"
      ],
      "metadata": {
        "colab": {
          "base_uri": "https://localhost:8080/",
          "height": 57
        },
        "id": "BD_kmgVBzBiT",
        "outputId": "809ebae7-1ea5-4f6f-c0a3-d05484b6fa69"
      },
      "execution_count": null,
      "outputs": [
        {
          "output_type": "display_data",
          "data": {
            "image/png": "[encoded data removed]",
            "text/plain": [
              "<Figure size 1440x72 with 1 Axes>"
            ]
          },
          "metadata": {
            "needs_background": "light"
          }
        }
      ]
    },
    {
      "cell_type": "code",
      "source": [
        "# 색 지정 예시"
      ],
      "metadata": {
        "id": "IZafHzV-zPyz"
      },
      "execution_count": null,
      "outputs": []
    },
    {
      "cell_type": "code",
      "source": [
        "sns.countplot(data=rawData, x='연령대코드(5세단위)')"
      ],
      "metadata": {
        "colab": {
          "base_uri": "https://localhost:8080/",
          "height": 296
        },
        "id": "XPpMOCN1zYwT",
        "outputId": "b4ef2c26-6d71-4c83-b0e4-74454ae6e7e6"
      },
      "execution_count": null,
      "outputs": [
        {
          "output_type": "execute_result",
          "data": {
            "text/plain": [
              "<matplotlib.axes._subplots.AxesSubplot at 0x7f7917400410>"
            ]
          },
          "metadata": {},
          "execution_count": 154
        },
        {
          "output_type": "display_data",
          "data": {
            "image/png": "[encoded data removed]",
            "text/plain": [
              "<Figure size 432x288 with 1 Axes>"
            ]
          },
          "metadata": {
            "needs_background": "light"
          }
        }
      ]
    },
    {
      "cell_type": "code",
      "source": [
        "# 컬러를 지정하고 적용하기\n",
        "colors = sns.color_palette('YlOrBr')\n",
        "sns.countplot(data=rawData, x='연령대코드(5세단위)', palette=colors)"
      ],
      "metadata": {
        "colab": {
          "base_uri": "https://localhost:8080/",
          "height": 296
        },
        "id": "WdjcaZdDzZVa",
        "outputId": "fd5412a2-a914-4531-b52e-7acca7ec46d2"
      },
      "execution_count": null,
      "outputs": [
        {
          "output_type": "execute_result",
          "data": {
            "text/plain": [
              "<matplotlib.axes._subplots.AxesSubplot at 0x7f79172c1250>"
            ]
          },
          "metadata": {},
          "execution_count": 156
        },
        {
          "output_type": "display_data",
          "data": {
            "image/png": "[encoded data removed]",
            "text/plain": [
              "<Figure size 432x288 with 1 Axes>"
            ]
          },
          "metadata": {
            "needs_background": "light"
          }
        }
      ]
    },
    {
      "cell_type": "code",
      "source": [
        ""
      ],
      "metadata": {
        "id": "nqwMDAt1zeX-"
      },
      "execution_count": null,
      "outputs": []
    }
  ]
}